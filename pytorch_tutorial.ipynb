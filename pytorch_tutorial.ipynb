{
  "cells": [
    {
      "cell_type": "markdown",
      "metadata": {
        "id": "pve6c6mU9hr4"
      },
      "source": [
        "# 1) Basics of Pytorch \n"
      ]
    },
    {
      "cell_type": "code",
      "execution_count": null,
      "metadata": {
        "id": "VsZ3gwFN9ict"
      },
      "outputs": [],
      "source": [
        "import torch\n",
        "import numpy as np "
      ]
    },
    {
      "cell_type": "code",
      "execution_count": null,
      "metadata": {
        "colab": {
          "base_uri": "https://localhost:8080/"
        },
        "id": "tYTlIYmn5ugi",
        "outputId": "43aab1e0-b742-4e4a-e452-e2ddde108438"
      },
      "outputs": [
        {
          "name": "stdout",
          "output_type": "stream",
          "text": [
            "[tensor([[[1.6273e-35, 0.0000e+00, 3.3631e-44, 0.0000e+00],\n",
            "         [       nan, 0.0000e+00, 1.1578e+27, 1.1362e+30]]]), tensor([[[7.1547e+22, 4.5828e+30, 1.2121e+04, 7.1846e+22],\n",
            "         [9.2198e-39, 7.0374e+22, 0.0000e+00, 0.0000e+00]]])]\n",
            "[tensor([0.4054, 0.7107]), tensor([0.4796, 0.0905])]\n",
            "tensor([[0., 0.],\n",
            "        [0., 0.]])\n",
            "tensor([[1., 1.],\n",
            "        [1., 1.]])\n",
            "torch.float32\n",
            "torch.Size([2, 1, 2, 4])\n",
            "tensor([1, 2, 3, 4])\n"
          ]
        }
      ],
      "source": [
        "# creating empty tensor \n",
        "x = torch.empty(2,1,2,4,dtype=torch.float)\n",
        "print(list(x))\n",
        "# creating the random tensor \n",
        "r = torch.rand(2,2)\n",
        "print(list(r))\n",
        "# creating the zero tensor \n",
        "z = torch.zeros(2,2)\n",
        "print(z)\n",
        "# creating all the ones tensor \n",
        "o = torch.ones(2,2)\n",
        "print(o)\n",
        "# we can get the datatype also\n",
        "print(x.dtype)\n",
        "# we can get the size of the tensor \n",
        "print(x.size())\n",
        "# we can create a tensor as we can create an array \n",
        "t = torch.tensor([1,2,3,4])\n",
        "print(t)"
      ]
    },
    {
      "cell_type": "code",
      "execution_count": null,
      "metadata": {
        "colab": {
          "base_uri": "https://localhost:8080/"
        },
        "id": "0w2PZ6INF7kh",
        "outputId": "3b2966e8-42eb-4fb4-ea2d-de858c9596a2"
      },
      "outputs": [
        {
          "name": "stdout",
          "output_type": "stream",
          "text": [
            "tensor([[0.3910, 0.1129],\n",
            "        [0.8170, 0.0257]])\n",
            "tensor([[0.3110, 0.1608],\n",
            "        [0.7615, 0.9930]])\n",
            "addition\n",
            "tensor([[0.7021, 0.2738],\n",
            "        [1.5785, 1.0187]])\n",
            "multiplication\n",
            "tensor([[0.1216, 0.0182],\n",
            "        [0.6221, 0.0255]])\n"
          ]
        }
      ],
      "source": [
        "# operation we can perform on tensor \n",
        "# 1) addition \n",
        "x = torch.rand(2,2)\n",
        "y = torch.rand(2,2)\n",
        "z = x+y\n",
        "print(x)\n",
        "print(y)\n",
        "print('addition')\n",
        "# we can use z = torch.add(x,y)\n",
        "# for inplace operation you can do it like this y.add_(x)\n",
        "print(z)\n",
        "#Multiplication\n",
        "M = x*y\n",
        "print(\"multiplication\")\n",
        "print(M)\n",
        "# similarly you can perform various other operation on tensor \n",
        "\n",
        "\n",
        "\n"
      ]
    },
    {
      "cell_type": "code",
      "execution_count": null,
      "metadata": {
        "colab": {
          "base_uri": "https://localhost:8080/"
        },
        "id": "-BbpmNGXF844",
        "outputId": "9ae59c39-a97f-4781-ecf3-5a937cf84ea8"
      },
      "outputs": [
        {
          "name": "stdout",
          "output_type": "stream",
          "text": [
            "tensor([[7.0410e-01, 2.0869e-01, 1.1527e-01],\n",
            "        [7.8679e-01, 3.3506e-01, 1.0413e-01],\n",
            "        [2.6077e-01, 2.4617e-04, 8.3803e-02],\n",
            "        [2.0723e-01, 3.3665e-01, 3.1951e-02],\n",
            "        [1.4975e-01, 9.8806e-01, 1.8643e-01]])\n",
            "tensor([0.7041, 0.2087, 0.1153])\n",
            "tensor([0.7041, 0.7868, 0.2608, 0.2072, 0.1498])\n",
            "tensor(0.3351)\n",
            "0.704101026058197\n"
          ]
        }
      ],
      "source": [
        "# slicing \n",
        "# we can do slicing the tensor as we can do in numpy \n",
        "x = torch.rand(5,3)\n",
        "print(x)\n",
        "# row slicing \n",
        "print(x[0,:])\n",
        "# columnn slicing \n",
        "print(x[:,0])\n",
        "# we can access a single element also \n",
        "print(x[1,1])\n",
        "# we can get the actual value of the tensor by using item method\n",
        "print(x[0,0].item())"
      ]
    },
    {
      "cell_type": "code",
      "execution_count": null,
      "metadata": {
        "colab": {
          "base_uri": "https://localhost:8080/"
        },
        "id": "ta1WihBjKJxL",
        "outputId": "c8ed5563-7977-4228-eff0-42293a769025"
      },
      "outputs": [
        {
          "name": "stdout",
          "output_type": "stream",
          "text": [
            "tensor([[0.2906, 0.5882, 0.5101, 0.9525],\n",
            "        [0.9698, 0.9912, 0.1965, 0.4570],\n",
            "        [0.4916, 0.4591, 0.6948, 0.2195],\n",
            "        [0.8520, 0.4488, 0.2025, 0.0984]])\n",
            "after resizing\n",
            "tensor([[0.2906, 0.5882, 0.5101, 0.9525, 0.9698, 0.9912, 0.1965, 0.4570],\n",
            "        [0.4916, 0.4591, 0.6948, 0.2195, 0.8520, 0.4488, 0.2025, 0.0984]])\n",
            "torch.Size([2, 8])\n"
          ]
        }
      ],
      "source": [
        "# we can reshape the tensor \n",
        "x = torch.rand(4,4)\n",
        "print(x)\n",
        "print(\"after resizing\")\n",
        "y = x.view(-1,8)\n",
        "print(y)\n",
        "print(y.size())"
      ]
    },
    {
      "cell_type": "code",
      "execution_count": null,
      "metadata": {
        "colab": {
          "base_uri": "https://localhost:8080/"
        },
        "id": "l86h_5EcLjRs",
        "outputId": "8faaadc8-3def-4819-c9c2-81311a851381"
      },
      "outputs": [
        {
          "name": "stdout",
          "output_type": "stream",
          "text": [
            "tensor([[1., 1., 1., 1.],\n",
            "        [1., 1., 1., 1.],\n",
            "        [1., 1., 1., 1.],\n",
            "        [1., 1., 1., 1.]])\n",
            "[[1. 1. 1. 1.]\n",
            " [1. 1. 1. 1.]\n",
            " [1. 1. 1. 1.]\n",
            " [1. 1. 1. 1.]]\n",
            "tensor([[1., 1., 1., 1.],\n",
            "        [1., 1., 1., 1.],\n",
            "        [1., 1., 1., 1.],\n",
            "        [1., 1., 1., 1.]])\n",
            "[[5. 5. 5. 5.]\n",
            " [5. 5. 5. 5.]\n",
            " [5. 5. 5. 5.]\n",
            " [5. 5. 5. 5.]]\n",
            "tensor([[1., 1., 1., 1.],\n",
            "        [1., 1., 1., 1.],\n",
            "        [1., 1., 1., 1.],\n",
            "        [1., 1., 1., 1.]])\n"
          ]
        }
      ],
      "source": [
        "# converting a tensor to a numpy array \n",
        "# if you are working on the CPU then the Numpy array and tensor both share the same memory location if you change one other will change itself \n",
        "import numpy as np \n",
        "x = torch.ones(4,4)\n",
        "print(x)\n",
        "# converting to numpy array from tensor \n",
        "n = x.numpy()\n",
        "print(n)\n",
        "# converting numpy array to tensor \n",
        "T = torch.from_numpy(n)\n",
        "print(T)\n",
        "# adding a value to the array \n",
        "n = n+4\n",
        "print(n)\n",
        "print(x)"
      ]
    },
    {
      "cell_type": "markdown",
      "source": [
        "# 2) setting up the enviornment for GPU "
      ],
      "metadata": {
        "id": "28-myc2MCQuJ"
      }
    },
    {
      "cell_type": "code",
      "execution_count": null,
      "metadata": {
        "colab": {
          "base_uri": "https://localhost:8080/"
        },
        "id": "oFqirhsHMmzh",
        "outputId": "0dfdcb99-532a-4c10-e673-63f83ad23112"
      },
      "outputs": [
        {
          "name": "stdout",
          "output_type": "stream",
          "text": [
            "tensor([2., 2., 2., 2., 2.], device='cuda:0')\n",
            "tensor([2., 2., 2., 2., 2.])\n"
          ]
        }
      ],
      "source": [
        "# creating a GPU enviornment \n",
        "\n",
        "if torch.cuda.is_available():\n",
        "  device = torch.device(\"cuda\")\n",
        "  x = torch.ones(5,device=device)\n",
        "  y = torch.ones(5)\n",
        "  # we can do any operation using same device only\n",
        "  y = y.to(device)\n",
        "  z = x+y\n",
        "  print(z)\n",
        "  z = z.to(\"cpu\")\n",
        "  print(z)"
      ]
    },
    {
      "cell_type": "code",
      "execution_count": null,
      "metadata": {
        "colab": {
          "base_uri": "https://localhost:8080/"
        },
        "id": "Jem3xDRwQt1I",
        "outputId": "cff7e613-12e7-47e7-ff1a-f8c9ab0b88f1"
      },
      "outputs": [
        {
          "name": "stdout",
          "output_type": "stream",
          "text": [
            "tensor([1., 1., 1., 1., 1.], requires_grad=True)\n"
          ]
        }
      ],
      "source": [
        "# requires_grad = True:- this tells the torch that you need to calculate the gradient of the tensor in the future code to optimize the variable in the code \n",
        "x = torch.ones(5,requires_grad=True)\n",
        "print(x)"
      ]
    },
    {
      "cell_type": "markdown",
      "metadata": {
        "id": "IGU8J7Cnlxm_"
      },
      "source": [
        "#3) Autograd"
      ]
    },
    {
      "cell_type": "code",
      "execution_count": null,
      "metadata": {
        "colab": {
          "base_uri": "https://localhost:8080/"
        },
        "id": "Z3vdJbvJSdXw",
        "outputId": "760707b6-9d36-4e6f-b9d0-d1449f8c6426"
      },
      "outputs": [
        {
          "name": "stdout",
          "output_type": "stream",
          "text": [
            "tensor([0.1587, 0.1921, 0.0016], requires_grad=True)\n",
            "tensor([2.1587, 2.1921, 2.0016], grad_fn=<AddBackward0>)\n",
            "tensor([13.9798, 14.4159, 12.0197], grad_fn=<MulBackward0>)\n",
            "tensor([13.9798, 14.4159, 12.0197], grad_fn=<MulBackward0>)\n",
            "THIS IS TO SHOW THE GRADIENT VALUES\n",
            "tensor([1.2952e+00, 1.3153e+01, 1.2010e-02])\n"
          ]
        }
      ],
      "source": [
        "# calculate the gradient \n",
        "# gradient helps us to improve the accuracy of model.\n",
        "\n",
        "\n",
        "\n",
        "# For calculating gradient we need to make it True By Default it is False\n",
        "x = torch.randn(3, requires_grad = True )\n",
        "print(x)\n",
        "\n",
        "y = x+2\n",
        "print(y)\n",
        "\n",
        "z = y*y*3\n",
        "print(z)\n",
        "\n",
        "# z = z.mean()\n",
        "print(z)\n",
        "# z.backward()  #dz/dx\n",
        "\n",
        "\n",
        "#  we can get the gradient only when we use a scaler value or a 1D vector  otherwise backward function will give an error \n",
        "#For scaler we don't need to give any arguement in the backward function whereas if we use 1D vector we need to vector as an arguement in the backward function.\n",
        "\n",
        "v = torch.tensor([0.1,1.0,0.001,], dtype = torch.float32)\n",
        "z.backward(v)  #dz/dx\n",
        "print(\"THIS IS TO SHOW THE GRADIENT VALUES\")\n",
        "# print(mean.grad)\n",
        "print(x.grad)"
      ]
    },
    {
      "cell_type": "code",
      "execution_count": null,
      "metadata": {
        "colab": {
          "base_uri": "https://localhost:8080/"
        },
        "id": "7k70sHphmaIw",
        "outputId": "eda5d43b-c6ff-4e11-ac79-83ad1a189c6e"
      },
      "outputs": [
        {
          "name": "stdout",
          "output_type": "stream",
          "text": [
            "tensor([ 1.4105,  0.3131, -0.6401], requires_grad=True)\n",
            "tensor([ 1.4105,  0.3131, -0.6401])\n",
            "tensor([ 1.4105,  0.3131, -0.6401])\n",
            "tensor([3.4105, 2.3131, 1.3599])\n"
          ]
        }
      ],
      "source": [
        "# How we can prevent pytorch to track the history and calculating the gradient. \n",
        "# 1) x.requires_grad_(False)\n",
        "# 2) x.detach()\n",
        "# 3) With torch.no_grad():\n",
        "x = torch.randn(3,requires_grad=True)\n",
        "print(x)\n",
        "x.requires_grad_(False)\n",
        "print(x)\n",
        "\n",
        "y = x.detach()\n",
        "print(y)\n",
        "with torch.no_grad():\n",
        "  y = x+2\n",
        "  print(y)"
      ]
    },
    {
      "cell_type": "code",
      "execution_count": null,
      "metadata": {
        "colab": {
          "base_uri": "https://localhost:8080/"
        },
        "id": "TVokcKJ1l53b",
        "outputId": "eb8bdca1-b2ac-48fb-9c59-6aca5adbb691"
      },
      "outputs": [
        {
          "name": "stdout",
          "output_type": "stream",
          "text": [
            "tensor([3., 3., 3., 3.])\n",
            "tensor([3., 3., 3., 3.])\n",
            "tensor([3., 3., 3., 3.])\n",
            "tensor([3., 3., 3., 3.])\n",
            "tensor([3., 3., 3., 3.])\n",
            "tensor([3., 3., 3., 3.])\n"
          ]
        }
      ],
      "source": [
        "# creating the dummy operation to check the gradient.\n",
        "weights = torch.ones(4,requires_grad=True)\n",
        "for epoch in range(6):\n",
        "  model_output = (weights*3).sum()\n",
        "  model_output.backward()\n",
        "  print(weights.grad)\n",
        "\n",
        "  weights.grad.zero_() # To make it initial state "
      ]
    },
    {
      "cell_type": "markdown",
      "metadata": {
        "id": "byGdSBwyoDgu"
      },
      "source": [
        "# 4) Backpropagation "
      ]
    },
    {
      "cell_type": "code",
      "execution_count": null,
      "metadata": {
        "colab": {
          "base_uri": "https://localhost:8080/"
        },
        "id": "0qxWTuOznh68",
        "outputId": "32b62410-142c-408a-c6e1-3e6aec416be4"
      },
      "outputs": [
        {
          "name": "stdout",
          "output_type": "stream",
          "text": [
            "tensor(1., grad_fn=<PowBackward0>)\n",
            "tensor(-2.)\n"
          ]
        }
      ],
      "source": [
        "x = torch.tensor(1.0)\n",
        "y = torch.tensor(2.0)\n",
        "w = torch.tensor(1.0,requires_grad = True)\n",
        "# Forward Pass and computing the loss\n",
        "y_hat = w*x\n",
        "loss = (y_hat-y)**2\n",
        "print(loss)\n",
        "\n",
        "# Backward pass\n",
        "loss.backward()\n",
        "print(w.grad)\n",
        "\n",
        "### update weights\n",
        "### Next Forward propagation  and Backward propagation "
      ]
    },
    {
      "cell_type": "markdown",
      "metadata": {
        "id": "HncC734dzP2c"
      },
      "source": [
        "# 5) Gradient Descent with Autograd"
      ]
    },
    {
      "cell_type": "code",
      "execution_count": null,
      "metadata": {
        "colab": {
          "base_uri": "https://localhost:8080/"
        },
        "id": "u9pEFpX2qtm-",
        "outputId": "126ced46-4772-4190-8aa8-ab2dbfcf9d59"
      },
      "outputs": [
        {
          "name": "stdout",
          "output_type": "stream",
          "text": [
            "Prediction before training:f(5) = 0.000\n",
            "epoch1:   w = 6.000   loss   30.00000000\n",
            "epoch2:   w = 8.400   loss   4.79999924\n",
            "epoch3:   w = 9.360   loss   0.76800019\n",
            "epoch4:   w = 9.744   loss   0.12288000\n",
            "epoch5:   w = 9.898   loss   0.01966083\n",
            "epoch6:   w = 9.959   loss   0.00314574\n",
            "epoch7:   w = 9.984   loss   0.00050331\n",
            "epoch8:   w = 9.993   loss   0.00008053\n",
            "epoch9:   w = 9.997   loss   0.00001288\n",
            "epoch10:   w = 9.999   loss   0.00000206\n",
            "prediction  after training: f(5) = 9.999\n"
          ]
        }
      ],
      "source": [
        "import numpy as np\n",
        "# t = w*x\n",
        "#f = 2*x\n",
        "x = np.array([1,2,3,4], dtype = np.float32)\n",
        "y = np.array([2,4,6,8], dtype = np.float32)\n",
        "w = 0.0\n",
        "#  model pewdiction \n",
        "def forward(x):\n",
        "  return w*x\n",
        "\n",
        "# loss\n",
        "def loss(y,y_predicted):\n",
        "  return ((y_predicted-y)**2).mean()\n",
        "\n",
        "#  gradient \n",
        "# MSE = 1/N *(w*x - y)**2\n",
        "# dj/dw = 1/N *2x*(w*x-y)\n",
        "\n",
        "def gradient(x,y,y_predicted):\n",
        "  return np.dot(2*x,y_predicted-y).mean()\n",
        "\n",
        "print(f'Prediction before training:f(5) = {forward(5):.3f}')\n",
        "\n",
        "# Training \n",
        "learning_rate = 0.01\n",
        "n_iters = 10 \n",
        "for epoch in range(n_iters):\n",
        "  # prediction = forward pass\n",
        "  y_pred = forward(x)\n",
        "\n",
        "  # loss \n",
        "  l = loss(y,y_pred)\n",
        "  # gradient \n",
        "  dw = gradient(x,y,y_pred)\n",
        "\n",
        "  # update weights\n",
        "  w -= learning_rate*dw\n",
        "\n",
        "  if epoch %1 == 0:\n",
        "    print(f'epoch{epoch+1}:   w = {forward(5):.3f}   loss   {l:.8f}')\n",
        "print(f'prediction  after training: f(5) = {forward(5):.3f}')"
      ]
    },
    {
      "cell_type": "code",
      "execution_count": null,
      "metadata": {
        "colab": {
          "base_uri": "https://localhost:8080/"
        },
        "id": "fR9Ocuf34C4H",
        "outputId": "c63a3dc8-ac39-4a2c-d2a7-ebebefbcea08"
      },
      "outputs": [
        {
          "name": "stdout",
          "output_type": "stream",
          "text": [
            "Prediction before training:f(5) = 0.000\n",
            "epoch1:   w = 1.500   loss   30.00000000\n",
            "epoch11:   w = 8.327   loss   1.16278565\n",
            "epoch21:   w = 9.671   loss   0.04506890\n",
            "epoch31:   w = 9.935   loss   0.00174685\n",
            "epoch41:   w = 9.987   loss   0.00006770\n",
            "epoch51:   w = 9.997   loss   0.00000262\n",
            "epoch61:   w = 10.000   loss   0.00000010\n",
            "epoch71:   w = 10.000   loss   0.00000000\n",
            "epoch81:   w = 10.000   loss   0.00000000\n",
            "epoch91:   w = 10.000   loss   0.00000000\n",
            "prediction  after training: f(5) = 10.000\n"
          ]
        }
      ],
      "source": [
        "# Using Backpropagation inbuilt function of torch \n",
        "import numpy as np\n",
        "# t = w*x\n",
        "#f = 2*x\n",
        "x = torch.tensor([1,2,3,4], dtype = torch.float32)\n",
        "y = torch.tensor([2,4,6,8], dtype = torch.float32)\n",
        "w = torch.tensor(0.0, dtype = torch.float32, requires_grad=True)\n",
        "#  model pewdiction \n",
        "def forward(x):\n",
        "  return w*x\n",
        "\n",
        "# loss\n",
        "def loss(y,y_predicted):\n",
        "  return ((y_predicted-y)**2).mean()\n",
        "\n",
        "#  gradient \n",
        "# MSE = 1/N *(w*x - y)**2\n",
        "# dj/dw = 1/N *2x*(w*x-y)\n",
        "\n",
        "# def gradient(x,y,y_predicted):\n",
        "#   return np.dot(2*x,y_predicted-y).mean()\n",
        "\n",
        "print(f'Prediction before training:f(5) = {forward(5):.3f}')\n",
        "\n",
        "# Training \n",
        "learning_rate = 0.01\n",
        "n_iters = 100 \n",
        "for epoch in range(n_iters):\n",
        "  # prediction = forward pass\n",
        "  y_pred = forward(x)\n",
        "\n",
        "  # loss \n",
        "  l = loss(y,y_pred)\n",
        "  # gradient \n",
        "  l.backward()\n",
        "  # dw = gradient(x,y,y_pred)\n",
        "\n",
        "  # update weights\n",
        "  with torch.no_grad():\n",
        "    w -= learning_rate* w.grad\n",
        "\n",
        "  # Zero gradients \n",
        "  w.grad.zero_()\n",
        "\n",
        "  if epoch %10 == 0:\n",
        "    print(f'epoch{epoch+1}:   w = {forward(5):.3f}   loss   {l:.8f}')\n",
        "print(f'prediction  after training: f(5) = {forward(5):.3f}')"
      ]
    },
    {
      "cell_type": "markdown",
      "metadata": {
        "id": "8eytPmdP4ZrC"
      },
      "source": [
        "# 6) Training Pipeline: Model, Loss, and Optimizser"
      ]
    },
    {
      "cell_type": "code",
      "execution_count": null,
      "metadata": {
        "colab": {
          "base_uri": "https://localhost:8080/"
        },
        "id": "fLjhF1dx9qvv",
        "outputId": "b62c7043-e86c-49c2-8744-61cd0b777f5c"
      },
      "outputs": [
        {
          "name": "stdout",
          "output_type": "stream",
          "text": [
            "Prediction before training:f(5) = -1.894\n",
            "epoch1:   w = 0.152   loss   46.38308716\n",
            "epoch11:   w = 1.711   loss   1.20018923\n",
            "epoch21:   w = 1.962   loss   0.03119135\n",
            "epoch31:   w = 2.002   loss   0.00093851\n",
            "epoch41:   w = 2.008   loss   0.00014814\n",
            "epoch51:   w = 2.009   loss   0.00012049\n",
            "epoch61:   w = 2.009   loss   0.00011299\n",
            "epoch71:   w = 2.009   loss   0.00010640\n",
            "epoch81:   w = 2.008   loss   0.00010020\n",
            "epoch91:   w = 2.008   loss   0.00009437\n",
            "Prediction before training:f(5) = 10.016\n"
          ]
        }
      ],
      "source": [
        "# Generic Piplining in Pytorch \n",
        "# 1) Design model (input,output size, forwar pass)\n",
        "# 2) Construct loss and optimizer \n",
        "# 3) Training loop \n",
        "#     -- Forward pass: compute prediction \n",
        "#     -- Backward pass: gradients \n",
        "#     -- update weights \n",
        "import torch\n",
        "import torch.nn as nn \n",
        "# Using Backpropagation inbuilt function of torch \n",
        "import numpy as np\n",
        "# t = w*x\n",
        "#f = 2*x\n",
        "x = torch.tensor([[1],[2],[3],[4]], dtype = torch.float32)\n",
        "y = torch.tensor([[2],[4],[6],[8]], dtype = torch.float32)\n",
        "w = torch.tensor(0.0, dtype = torch.float32, requires_grad=True)\n",
        "#  model pewdiction \n",
        "# def forward(x):\n",
        "#   return w*x\n",
        "\n",
        "# using inbuilt model\n",
        "X_test = torch.tensor([5], dtype = torch.float32) # creating a tensor for prediction as it will not take any scalerr value\n",
        "n_samples,n_features = x.shape\n",
        "input_size = n_features\n",
        "output_size = n_features\n",
        "# model = nn.Linear(input_size,output_size)\n",
        "\n",
        "\n",
        "\n",
        "\n",
        "# creating customize model\n",
        "class LinearRegression(nn.Module):\n",
        "  def __init__(self, input_dim, output_dim):\n",
        "    super(LinearRegression,self).__init__()\n",
        "    # define layers\n",
        "    self.lin = nn.Linear(input_dim,output_dim)\n",
        "  def forward(self,x):\n",
        "    return self.lin(x)\n",
        "model = LinearRegression(input_size,output_size)\n",
        "\n",
        "\n",
        "\n",
        "# loss\n",
        "# def loss(y,y_predicted):\n",
        "#   return ((y_predicted-y)**2).mean()\n",
        "\n",
        "#  gradient \n",
        "# MSE = 1/N *(w*x - y)**2\n",
        "# dj/dw = 1/N *2x*(w*x-y)\n",
        "\n",
        "# def gradient(x,y,y_predicted):\n",
        "#   return np.dot(2*x,y_predicted-y).mean()\n",
        "\n",
        "# print(f'Prediction before training:f(5) = {forward(5):.3f}')\n",
        "print(f'Prediction before training:f(5) = {model(X_test).item():.3f}')\n",
        "\n",
        "# Training \n",
        "learning_rate = 0.01\n",
        "n_iters = 100 \n",
        "loss = nn.MSELoss()\n",
        "optimizer = torch.optim.SGD(model.parameters(), lr = learning_rate)\n",
        "for epoch in range(n_iters):\n",
        "  # prediction = forward pass\n",
        "  y_pred = model(x)\n",
        "\n",
        "  # loss \n",
        "  l = loss(y,y_pred)\n",
        "  # gradient \n",
        "  l.backward()\n",
        "  # dw = gradient(x,y,y_pred)\n",
        "\n",
        "  # update weights\n",
        "  # with torch.no_grad():\n",
        "  #   w -= learning_rate* w.grad\n",
        "  optimizer.step()\n",
        "\n",
        "  # Zero gradients \n",
        "  # w.grad.zero_()\n",
        "  optimizer.zero_grad()\n",
        "\n",
        "  if epoch %10 == 0:\n",
        "    [w,b] = model.parameters()\n",
        "    print(f'epoch{epoch+1}:   w = {w[0][0].item():.3f}   loss   {l:.8f}')\n",
        "# print(f'prediction  after training: f(5) = {forward(5):.3f}')\n",
        "print(f'Prediction before training:f(5) = {model(X_test).item():.3f}')\n"
      ]
    },
    {
      "cell_type": "markdown",
      "metadata": {
        "id": "od-GIPxaof_l"
      },
      "source": [
        "# 7) Linear Regression "
      ]
    },
    {
      "cell_type": "code",
      "execution_count": null,
      "metadata": {
        "colab": {
          "base_uri": "https://localhost:8080/",
          "height": 282
        },
        "id": "SAkrhDwWom2F",
        "outputId": "57b6dec0-2f1d-4e9c-ffd2-fd6d555f746b"
      },
      "outputs": [
        {
          "data": {
            "text/plain": [
              "<function matplotlib.pyplot.show(*args, **kw)>"
            ]
          },
          "execution_count": 1,
          "metadata": {},
          "output_type": "execute_result"
        },
        {
          "data": {
            "image/png": "[encoded data removed]",
            "text/plain": [
              "<Figure size 432x288 with 1 Axes>"
            ]
          },
          "metadata": {},
          "output_type": "display_data"
        }
      ],
      "source": [
        "# 1) Design model (input,output size, forwar pass)\n",
        "# 2) Construct loss and optimizer \n",
        "# 3) Training loop \n",
        "#     -- Forward pass: compute prediction \n",
        "#     -- Backward pass: gradients \n",
        "#     -- update weights \n",
        "\n",
        "import torch \n",
        "import torch.nn  as nn \n",
        "import numpy as np\n",
        "import matplotlib.pyplot as plt\n",
        "from sklearn import datasets \n",
        "# Preparing Data\n",
        "x_numpy,y_numpy = datasets.make_regression(n_samples = 100,n_features=1,noise=20,random_state=1)\n",
        "x = torch.from_numpy(x_numpy.astype(np.float32))\n",
        "y = torch.from_numpy(y_numpy.astype(np.float32))\n",
        "# reshaping the y \n",
        "y = y.view(y.shape[0],1)\n",
        "n_samples,n_features = x.shape\n",
        "\n",
        "\n",
        "# 1) model\n",
        "#linear model \n",
        "input_size= n_features\n",
        "output_size = 1\n",
        "model = nn.Linear(input_size,output_size)\n",
        "\n",
        "\n",
        "#2) loss and optimizer \n",
        "learning_rate=0.01\n",
        "criterion = nn.MSELoss()\n",
        "optimizer = torch.optim.SGD(model.parameters(),lr=learning_rate)\n",
        "\n",
        "# 3) training loop \n",
        "num_epochs = 100\n",
        "for epoch in range(num_epochs):\n",
        "  # forwardpass and loss \n",
        "  y_predicted = model(x)\n",
        "  loss = criterion(y_predicted,y)\n",
        "\n",
        "\n",
        "  # backward pass\n",
        "  loss.backward()\n",
        "\n",
        "\n",
        "  # update\n",
        "  optimizer.step()\n",
        "\n",
        "  optimizer.zero_grad()\n",
        "\n",
        "  if (epoch+1)%10 == 10:\n",
        "    print(f'epoch:{epoch +1},    loss={loss.item():.4f}')\n",
        "\n",
        "#plot\n",
        "predicted = model(x).detach().numpy()\n",
        "plt.plot(x_numpy,y_numpy,\"ro\")\n",
        "plt.plot(x_numpy,predicted,\"b\")\n",
        "plt.show"
      ]
    },
    {
      "cell_type": "markdown",
      "metadata": {
        "id": "XGfwIxxeolQl"
      },
      "source": [
        "# 8) Logistic Regression "
      ]
    },
    {
      "cell_type": "code",
      "execution_count": null,
      "metadata": {
        "colab": {
          "base_uri": "https://localhost:8080/"
        },
        "id": "-kuT7jcIFlZH",
        "outputId": "a9a9948c-72f1-4526-cb70-f5ddf201aa0b"
      },
      "outputs": [
        {
          "name": "stdout",
          "output_type": "stream",
          "text": [
            "epoch:10, loss=0.65418249\n",
            "epoch:20, loss=0.51937139\n",
            "epoch:30, loss=0.43923181\n",
            "epoch:40, loss=0.38608071\n",
            "epoch:50, loss=0.34797767\n",
            "epoch:60, loss=0.31913981\n",
            "epoch:70, loss=0.29643592\n",
            "epoch:80, loss=0.27801886\n",
            "epoch:90, loss=0.26272568\n",
            "epoch:100, loss=0.24978574\n",
            "accuracy:0.9649122953414917\n"
          ]
        },
        {
          "name": "stderr",
          "output_type": "stream",
          "text": [
            "/usr/local/lib/python3.7/dist-packages/ipykernel_launcher.py:51: UserWarning: To copy construct from a tensor, it is recommended to use sourceTensor.clone().detach() or sourceTensor.clone().detach().requires_grad_(True), rather than torch.tensor(sourceTensor).\n"
          ]
        }
      ],
      "source": [
        "# 1) Design model (input,output size, forwar pass)\n",
        "# 2) Construct loss and optimizer \n",
        "# 3) Training loop \n",
        "#     -- Forward pass: compute prediction \n",
        "#     -- Backward pass: gradients \n",
        "#     -- update weights \n",
        "\n",
        "import torch \n",
        "import torch.nn  as nn \n",
        "import numpy as np\n",
        "import matplotlib.pyplot as plt\n",
        "from sklearn import datasets \n",
        "from sklearn.preprocessing import StandardScaler\n",
        "from sklearn.model_selection import train_test_split\n",
        "# Preparing Data\n",
        "b_c = datasets.load_breast_cancer()\n",
        "X,y = b_c.data, b_c.target\n",
        "# print(type(X))\n",
        "\n",
        "n_samples,n_features = X.shape\n",
        "\n",
        "x_train,x_test,y_train,y_test = train_test_split(X,y,test_size=0.2,random_state=25)\n",
        "\n",
        "\n",
        "# scaling the data \n",
        "sc = StandardScaler()\n",
        "x_train = sc.fit_transform(x_train)\n",
        "x_test = sc.transform(x_test)\n",
        "\n",
        "x_train = torch.from_numpy(x_train.astype(np.float32))\n",
        "x_test = torch.from_numpy(x_test.astype(np.float32))\n",
        "y_train = torch.from_numpy(y_train.astype(np.float32))\n",
        "y_test = torch.from_numpy(y_test.astype(np.float32))\n",
        "\n",
        "y_train = y_train.view(y_train.shape[0],1)\n",
        "y_test = y_test.view(y_test.shape[0],1)\n",
        "# print(x_train.shape, x_test.shape)\n",
        "# print(y_train.shape, y_test.shape)\n",
        "\n",
        "\n",
        "\n",
        "# 1) model\n",
        "#logistic Regression model \n",
        "class LogisticRegression(nn.Module):\n",
        "\n",
        "  def __init__(self,n_input_features):\n",
        "    super(LogisticRegression,self).__init__()\n",
        "    self.linear = nn.Linear(n_input_features,1)\n",
        "  \n",
        "  def forward(self,x):\n",
        "    return torch.sigmoid(self.linear(torch.tensor(x, dtype = torch.float32)))\n",
        "    # return self.linear(torch.tensor(x, dtype = torch.float32))\n",
        "\n",
        "model= LogisticRegression(n_features)\n",
        "\n",
        "#2) loss and optimizer \n",
        "learning_rate=0.01\n",
        "criterion = nn.BCELoss()\n",
        "optimizer = torch.optim.SGD(model.parameters(),lr=learning_rate)\n",
        "\n",
        "# 3) training loop \n",
        "num_epochs = 100\n",
        "for epoch in range(num_epochs):\n",
        "  # forwardpass and loss \n",
        "  y_predicted = model(x_train)\n",
        "  # y_pred_train = torch.round(torch.sigmoid(y_predicted))\n",
        "  # print(y_pred_train)\n",
        "  # print(y_predicted)\n",
        "  # print(y_predicted.shape, y_train.shape)\n",
        "  loss = criterion(y_predicted,y_train)\n",
        "\n",
        "  # backward pass\n",
        "  loss.backward()\n",
        "  # update\n",
        "  optimizer.step()\n",
        "\n",
        "#  zero our all gradient\n",
        "  optimizer.zero_grad()\n",
        "\n",
        "  # model.eval()  # model in testing mode for calculating test loss\n",
        "  \n",
        "  if (epoch+ 1)%10 == 0:\n",
        "    print(f'epoch:{epoch +1}, loss={loss.item():.8f}')\n",
        "with torch.inference_mode():\n",
        "    y_pred = model(x_test)\n",
        "    y_pred_cls = y_pred.round()\n",
        "    loss_test = criterion(y_pred_cls,y_test)\n",
        "    acc = y_pred_cls.eq(y_test).sum() / float(y_test.shape[0])\n",
        "    print(f'accuracy:{acc}')\n",
        " \n",
        "\n"
      ]
    },
    {
      "cell_type": "markdown",
      "metadata": {
        "id": "AxhqK_17e-Ct"
      },
      "source": [
        "# 9) Dataset and dataLoader "
      ]
    },
    {
      "cell_type": "code",
      "execution_count": null,
      "metadata": {
        "id": "HwP8oc0V8pR9"
      },
      "outputs": [],
      "source": []
    },
    {
      "cell_type": "code",
      "execution_count": null,
      "metadata": {
        "colab": {
          "base_uri": "https://localhost:8080/"
        },
        "id": "g39bV_Ih7aWO",
        "outputId": "639e3d16-0edf-44d2-b837-f4e67d2c1679"
      },
      "outputs": [
        {
          "name": "stdout",
          "output_type": "stream",
          "text": [
            "178 45\n",
            "epoch 1/2, step 5/45, inputs torch.Size([4, 13])\n",
            "epoch 1/2, step 10/45, inputs torch.Size([4, 13])\n",
            "epoch 1/2, step 15/45, inputs torch.Size([4, 13])\n",
            "epoch 1/2, step 20/45, inputs torch.Size([4, 13])\n",
            "epoch 1/2, step 25/45, inputs torch.Size([4, 13])\n",
            "epoch 1/2, step 30/45, inputs torch.Size([4, 13])\n",
            "epoch 1/2, step 35/45, inputs torch.Size([4, 13])\n",
            "epoch 1/2, step 40/45, inputs torch.Size([4, 13])\n",
            "epoch 1/2, step 45/45, inputs torch.Size([2, 13])\n",
            "epoch 2/2, step 5/45, inputs torch.Size([4, 13])\n",
            "epoch 2/2, step 10/45, inputs torch.Size([4, 13])\n",
            "epoch 2/2, step 15/45, inputs torch.Size([4, 13])\n",
            "epoch 2/2, step 20/45, inputs torch.Size([4, 13])\n",
            "epoch 2/2, step 25/45, inputs torch.Size([4, 13])\n",
            "epoch 2/2, step 30/45, inputs torch.Size([4, 13])\n",
            "epoch 2/2, step 35/45, inputs torch.Size([4, 13])\n",
            "epoch 2/2, step 40/45, inputs torch.Size([4, 13])\n",
            "epoch 2/2, step 45/45, inputs torch.Size([2, 13])\n"
          ]
        }
      ],
      "source": [
        "''' Epoch = 1 forward and backward pass of all training samples \n",
        "battch_size = number of training samples in one forward & backward pass\n",
        "number of iterations = number of passes, each pass using [batch_size] number of samples \n",
        "e.g. 100 samples, batch_size = 20 --> 100/20= 5 iterations for 1 epoch'''\n",
        "\n",
        "\n",
        "\n",
        "import torch \n",
        "import torchvision \n",
        "from torch.utils.data import Dataset, DataLoader \n",
        "import numpy as np \n",
        "import math \n",
        "from sklearn import datasets \n",
        "import pandas as pd\n",
        "class WineDataset(Dataset):\n",
        "  def __init__(self):\n",
        "    #  data loading\n",
        "    #  read with pandas and numpy\n",
        "    # Here the first column is class label and rest all are feature \n",
        "\n",
        "    df = np.loadtxt(\"https://gist.githubusercontent.com/tijptjik/9408623/raw/b237fa5848349a14a14e5d4107dc7897c21951f5/wine.csv\",delimiter=\",\",dtype=np.float32, skiprows=1)\n",
        "    self.n_samples = df.shape[0]\n",
        "    self.x = torch.from_numpy(df[:,1:])\n",
        "    self.y = torch.from_numpy(df[:,[0]]) # n_sample, 1\n",
        "   \n",
        "  def __getitem__(self,index):\n",
        "    return self.x[index],self.y[index]\n",
        "    dataset[0]\n",
        "  def __len__(self):\n",
        "    return self.n_samples\n",
        "dataset = WineDataset()\n",
        "# first_data = dataset[0]\n",
        "# features,labels = first_data\n",
        "# print(features,labels)\n",
        "\n",
        "dataloader = DataLoader(dataset=dataset,batch_size=4,shuffle=True,num_workers=2)\n",
        "\n",
        "\n",
        "# dataiter = iter(dataloader)\n",
        "# data = dataiter.next()\n",
        "# features,labels = data\n",
        "# print(features,labels)\n",
        "\n",
        "\n",
        "# dummy training loop \n",
        "\n",
        "num_epochs = 2 \n",
        "total_samples = len(dataset)\n",
        "n_iterations = math.ceil(total_samples/4)\n",
        "print(total_samples,n_iterations)\n",
        "\n",
        "for epoch in range(num_epochs):\n",
        "  for i,(input,labes) in enumerate (dataloader):\n",
        "    # forward and backward update \n",
        "    if (i+1) %5 == 0:\n",
        "      print(f'epoch {epoch+1}/{num_epochs}, step {i+1}/{n_iterations}, inputs {input.shape}')\n",
        "torchvision.datasets.MNIST()\n",
        "\n"
      ]
    },
    {
      "cell_type": "markdown",
      "metadata": {
        "id": "KV0IvrN3nTfM"
      },
      "source": [
        "# 10) Dataset Transform "
      ]
    },
    {
      "cell_type": "code",
      "execution_count": null,
      "metadata": {
        "colab": {
          "base_uri": "https://localhost:8080/"
        },
        "id": "N8pyWWx9kxMA",
        "outputId": "0c576546-f118-4853-c62a-fdc797185fce"
      },
      "outputs": [
        {
          "name": "stdout",
          "output_type": "stream",
          "text": [
            "tensor([4.2690e+01, 5.1300e+00, 7.2900e+00, 4.6800e+01, 3.8100e+02, 8.4000e+00,\n",
            "        9.1800e+00, 8.4000e-01, 6.8700e+00, 1.6920e+01, 3.1200e+00, 1.1760e+01,\n",
            "        3.1950e+03])\n",
            "<class 'torch.Tensor'> <class 'torch.Tensor'>\n",
            "tensor([2.8460e+01, 3.4200e+00, 4.8600e+00, 3.1200e+01, 2.5400e+02, 5.6000e+00,\n",
            "        6.1200e+00, 5.6000e-01, 4.5800e+00, 1.1280e+01, 2.0800e+00, 7.8400e+00,\n",
            "        2.1300e+03])\n",
            "<class 'torch.Tensor'> <class 'torch.Tensor'>\n"
          ]
        }
      ],
      "source": [
        "''' \n",
        "Transforms can be applied to PIL images, tensors, ndarrays, or custom data \n",
        "during creation of the Dataset\n",
        "\n",
        "complete list of built-in- transforms:\n",
        "https://pytorch.org/docs/stable/torchvision/transforms.html\n",
        "\n",
        "\n",
        "On Images\n",
        "--------\n",
        "CenterCrop, grayscale, pad, RandomAffine \n",
        "RandomCrop, RandomHorizontalFlip, RandomRotation \n",
        "Resize, Scale \n",
        "\n",
        "On Tensors \n",
        "----------\n",
        "LinearTransformation, Normalize, RandomErasing \n",
        "\n",
        "\n",
        "conversion\n",
        "----------\n",
        "ToPILImage: from tensor or ndarray \n",
        "ToTensor: from numpy.ndarray or PILImage \n",
        "\n",
        "Genric \n",
        "------\n",
        "use Lambda \n",
        "\n",
        "Custom\n",
        "-------\n",
        "Write own class \n",
        "\n",
        "Compose mulltiple Transforms \n",
        "----------------------------\n",
        "\n",
        "composed = transforms.Compose(Rescale(256),RandomCrop(224))\n",
        "\n",
        "torchvision.transform.ReScale(256)\n",
        "torchvision.trnsform.ToTensor()\n",
        "'''\n",
        "\n",
        "\n",
        "\n",
        "import torch\n",
        "import torchvision \n",
        "from torch.utils.data import Dataset \n",
        "import numpy as np \n",
        "\n",
        "\n",
        "class WineDataset(Dataset):\n",
        "  def __init__(self, transform = None):\n",
        "    df = np.loadtxt(\"https://gist.githubusercontent.com/tijptjik/9408623/raw/b237fa5848349a14a14e5d4107dc7897c21951f5/wine.csv\",delimiter=\",\",dtype=np.float32, skiprows=1)\n",
        "    self.n_samples = df.shape[0]\n",
        "    \n",
        "    # note that we do not convert to tensor here \n",
        "    self.x = df[:,1:]\n",
        "    self.y = df[:,[0]] \n",
        "    \n",
        "    \n",
        "    self.transform = transform \n",
        "\n",
        "  def __getitem__(self,index):\n",
        "    sample = self.x[index],self.y[index]\n",
        "    \n",
        "    if self.transform:\n",
        "      sample = self.transform(sample)\n",
        "    return sample \n",
        "\n",
        "\n",
        "\n",
        "  def __len__(self):\n",
        "    return self.n_samples\n",
        "\n",
        "\n",
        "\n",
        "\n",
        "class ToTensor:\n",
        "  def __call__(self,sample):\n",
        "    inputs,targets = sample\n",
        "    return torch.from_numpy(inputs),torch.from_numpy(targets)\n",
        "class MulTransform:\n",
        "  def __init__(self,factor):\n",
        "    self.factor = factor \n",
        "\n",
        "  def __call__(self, sample):\n",
        "    inputs,target = sample\n",
        "    inputs *= self.factor \n",
        "    return inputs, target \n",
        "\n",
        "\n",
        "\n",
        "\n",
        "\n",
        "\n",
        "\n",
        "\n",
        "dataset = WineDataset(transform =None)\n",
        "dataset = WineDataset(transform=ToTensor())\n",
        "\n",
        "print(features)\n",
        "first_data = dataset[0]\n",
        "features,labels = first_data\n",
        "print(type(features),type(labels))\n",
        "\n",
        "composed = torchvision.transforms.Compose([ToTensor(), MulTransform(2)])\n",
        "dataset = WineDataset(transform = composed)\n",
        "first_data = dataset[0]\n",
        "features,labels = first_data\n",
        "print(features)\n",
        "print(type(features),type(labels))\n"
      ]
    },
    {
      "cell_type": "markdown",
      "metadata": {
        "id": "xpf5z-c-UTBZ"
      },
      "source": [
        "# 11) Softmax and Cross Entropy \n",
        "a)softmax= exp(x)/sumation(exp(x))<br>\n",
        "b)cross-entropy = 1/n.sum(Y(i).log(y-hat)i)"
      ]
    },
    {
      "cell_type": "code",
      "execution_count": null,
      "metadata": {
        "colab": {
          "base_uri": "https://localhost:8080/"
        },
        "id": "4v0yh64Nx7zP",
        "outputId": "3245f0e8-39d5-445c-d7b8-02383f5ec282"
      },
      "outputs": [
        {
          "name": "stdout",
          "output_type": "stream",
          "text": [
            "softmax [0.65900114 0.24243297 0.09856589]\n",
            "tensor([0.6590, 0.2424, 0.0986])\n",
            "Loss1 numpy: 0.3567\n",
            "Losss2 numpy: 2.3026\n",
            "0.29866480827331543\n",
            "1.6241613626480103\n",
            "tensor([2, 0, 1])\n",
            "tensor([0, 2, 1])\n"
          ]
        }
      ],
      "source": [
        "import torch \n",
        "import torch.nn as nn \n",
        "import numpy as np \n",
        "\n",
        "\n",
        "def softmax(x):\n",
        "  return np.exp(x)/np.sum(np.exp(x),axis=0)\n",
        "x = np.array([2.0,1.0,0.1])\n",
        "outputs = softmax(x)\n",
        "print('softmax',outputs)\n",
        "\n",
        "x = torch.tensor([2.0,1.0,0.1])\n",
        "outputs = torch.softmax(x,dim=0)\n",
        "print(outputs)\n",
        "\n",
        "\n",
        "# cross entropy \n",
        "def cross_entropy(actual,predicted):\n",
        "  loss = -np.sum(actual * np.log(predicted))\n",
        "  return loss \n",
        "\n",
        "\n",
        "# y must be one hot encoded \n",
        "# if class 0:[1,0,0]\n",
        "# if class 1:[0,1,0]\n",
        "# if class 2:[0,0,1]\n",
        "y = np.array([1,0,0])\n",
        "\n",
        "# y_pred has probabilities\n",
        "y_pred_good = np.array([0.7,0.2,0.1])\n",
        "y_pred_bad = np.array([0.1,0.3,0.6])\n",
        "l1 = cross_entropy(y,y_pred_good)\n",
        "l2 = cross_entropy(y,y_pred_bad)\n",
        "print(f'Loss1 numpy: {l1:.4f}')\n",
        "print(f'Losss2 numpy: {l2:.4f}')\n",
        "\n",
        "# cross entropy in pytorch \n",
        "# carefull! \n",
        "# nn.CrossEntropyloss applies \n",
        "# nn.LogSoftmax + nn.NLLLoss(negative log likelihood loss)\n",
        "# -> No Softmax in th last layer! \n",
        "# y has a class labels, not one-hot!\n",
        "# y_pred has raw scores(logits),no Softmax!\n",
        "loss = nn.CrossEntropyLoss()\n",
        "\n",
        "\n",
        "\n",
        "# y = torch.tensor([0])\n",
        "\n",
        "# n_sample x nclasses = 1*3 \n",
        "# y_pred_good = torch.tensor([[2.0,1.0,0.1]])\n",
        "# y_pred_bad = torch.tensor([[0.5,2.0,0.3]])\n",
        "\n",
        "\n",
        "# with 3 samples \n",
        "y = torch.tensor([2,0,1])\n",
        "\n",
        "# N_sample x n_classes = 3*3\n",
        "\n",
        "y_pred_good = torch.tensor([[0.1,1.0,2.1],[2.0,1.0,0.1],[0.1,3.1,0.1]])\n",
        "y_pred_bad = torch.tensor([[2.1,1.0,0.1],[0.1,1.0,2.1],[0.1,3.0,0.1]])\n",
        "\n",
        "\n",
        "l1 = loss(y_pred_good,y)\n",
        "l2 = loss(y_pred_bad,y)\n",
        "\n",
        "print(l1.item())\n",
        "print(l2.item())\n",
        "\n",
        "\n",
        "_, predictions1 = torch.max(y_pred_good,1)\n",
        "_, predictions2 = torch.max(y_pred_bad,1)\n",
        "print(predictions1)\n",
        "print(predictions2)\n",
        "\n",
        "\n",
        "\n",
        "\n",
        "\n"
      ]
    },
    {
      "cell_type": "markdown",
      "metadata": {
        "id": "oicCwb_Myiov"
      },
      "source": [
        "# 12) Neural Net with softmax and sigmoid  "
      ]
    },
    {
      "cell_type": "code",
      "execution_count": null,
      "metadata": {
        "id": "v-bNNx9AU_oL"
      },
      "outputs": [],
      "source": [
        "# 1) Softmax\n",
        "\n",
        "\n",
        "\n",
        "\n",
        "# In pytorch: Use nn.CrossEntropyLoss() No Softmax at the end \n",
        "import torch \n",
        "import torch.nn as nn \n",
        "\n",
        "#  Multiclass problem \n",
        "class NeuralNet2(nn.Module):\n",
        "  def __init__(self,input_size,hidden_size,num_classes):\n",
        "    super(NeuralNet2,self).__init__()\n",
        "    self.linear1 = nn.Linear(input_size,hidden_size)\n",
        "    self.relu = nn.ReLU()\n",
        "    self.linear2 = nn.Linear(hidden_size,num_classes)\n",
        "\n",
        "  def forward(self,x):\n",
        "    out = self.linear1(x)\n",
        "    out = self.reLU(out)\n",
        "    out = self.Linear2(out)\n",
        "\n",
        "    #  No softmax at the end \n",
        "    return out \n",
        "model = NeuralNet2(input_size=28*28,hidden_size=5,num_classes=3)\n",
        "criterion = nn.CrossEntropyLoss() # applies the softmax \n",
        "\n",
        "\n",
        "\n",
        "\n",
        "\n",
        "\n",
        "# Sigmoid \n",
        "# in pytorch: Use nn.BCELoss()\n",
        "# sigmoid at the end \n",
        "# 1) Softmax\n",
        "\n",
        "\n",
        "\n",
        "\n",
        "# In pytorch: Use nn.CrossEntropyLoss() No Softmax at the end \n",
        "import torch \n",
        "import torch.nn as nn \n",
        "\n",
        "#  Multiclass problem \n",
        "class NeuralNet1(nn.Module):\n",
        "  def __init__(self,input_size,hidden_size,num_classes):\n",
        "    super(NeuralNet1,self).__init__()\n",
        "    self.linear1 = nn.Linear(input_size,hidden_size)\n",
        "    self.relu = nn.ReLU()\n",
        "    self.linear2 = nn.Linear(hidden_size,1)\n",
        "\n",
        "  def forward(self,x):\n",
        "    out = self.linear1(x)\n",
        "    out = self.reLU(out)\n",
        "    out = self.Linear2(out)\n",
        "\n",
        "    # sigmoid at the end \n",
        "    y_pred = torch.sigmoid(out)\n",
        "    return y_pred\n",
        "\n",
        "    #  No softmax at the end \n",
        "    return out \n",
        "model = NeuralNet1(input_size=28*28,hidden_size=5,num_classes=3)\n",
        "criterion = nn.BCELoss() # applies the softmax \n"
      ]
    },
    {
      "cell_type": "markdown",
      "metadata": {
        "id": "m7MHX_gF9YsN"
      },
      "source": [
        "# 13) Activation functions \n"
      ]
    },
    {
      "cell_type": "code",
      "execution_count": null,
      "metadata": {
        "id": "wRB0EWYK1xE-"
      },
      "outputs": [],
      "source": [
        "''' Activation functions apply a non-linear transformation and decide whether a neuron should be activated or not.\n",
        " --->Without activation functions our network is basically just a stacked linear regression model.\n",
        " ---> After each layer we typically use an activation function!\n",
        "\n",
        "\n",
        " Most popular activation functions \n",
        " 1) step function \n",
        " 2) sigmoid\n",
        " 3) TanH\n",
        " 4) ReLU\n",
        " 5) Leaky ReLU\n",
        " 6) Softmax \n",
        "\n",
        "\n",
        "1) Step function:\n",
        "Step Function is one of the simplest kind of activation functions.In this, we consider a threshold value and if the value of net input say y is greater than the threshold then the neuron is activated\n",
        "f(x) = {\n",
        "  1 if x >= 0\n",
        "  0 otherwise \n",
        "} \n",
        "-> ont used in practice \n",
        "\n",
        "\n",
        "2) Sigmoid Function:\n",
        "This function takes any real value as input and outputs values in the range of 0 to 1. The larger the input (more positive), the closer the output value will be to 1.0, whereas the smaller the input (more negative), the closer the output will be to 0.0, as shown below.\n",
        "f(x) = 1 / 1 +e^(-x)\n",
        "--> Typically in the last layes of a binary classfication problem \n",
        "\n",
        "\n",
        "3) TanH Function:\n",
        "Tanh Activation is an activation function used for neural networks: f ( x ) = e x − e − x e x + e − x. Historically, the tanh function became preferred over the sigmoid function as it gave better performance for multi-layer neural networks.\n",
        "f(x) = (2/(1+e^-2x))-1 \n",
        "-> Hidden layers\n",
        "\n",
        "\n",
        "4) ReLU Function:\n",
        "In a neural network, the activation function is responsible for transforming the summed weighted input from the node into the activation of the node or output for that input. \n",
        "f(x) = max(0,x)\n",
        "--> If you don't know what to use just use a ReLU of hidden layers \n",
        "\n",
        "\n",
        "5) Leaky ReLU: \n",
        "Leaky Rectified Linear Unit, or Leaky ReLU, is a type of activation function based on a ReLU, but it has a small slope for negative values instead of a flat slope. The slope coefficient is determined before training, i.e. it is not learnt during training.\n",
        "f(x) = {\n",
        "  x       if x>= 0 \n",
        "  a.x     otherwise \n",
        "}\n",
        "a is very very small.\n",
        "To avoid vanishing gradient problem we can use Leaky ReLU instead of ReLU \n",
        "\n",
        "6) Softmax:\n",
        "Softmax is an activation function that scales numbers/logits into probabilities. The output of a Softmax is a vector (say v ) with probabilities of each possible outcome. The probabilities in vector v sums to one for all possible outcomes or classes.\n",
        "S(x)= exp(x)/sumation(exp(x))\n",
        "-> Good in last layer in multi class classification problems\n",
        "''' \n",
        "\n",
        "\n",
        "import torch \n",
        "import torch.nn as nn \n",
        "import torch.nn.functional as f \n",
        "\n",
        "# option 1 ( create nn modules)\n",
        "class NeuralNet(nn.Module):\n",
        "  def __init__(self,input_size,hidden_size):\n",
        "    super(NeuralNet,self).__init__()\n",
        "    self.linear1 = nn.Linear(input_size,hidden_size)\n",
        "    self.relu = nn.ReLU()\n",
        "    # we can use here all other activation function \n",
        "    # nn.LeakyReLU \n",
        "    # nn.Sigmoid\n",
        "    # nn.TanH \n",
        "    self.linear2 = nn.Linear(hidden_size,1)\n",
        "    self.sigmoid = nn.Sigmoid()\n",
        "  \n",
        "  def forward(self,x):\n",
        "    out = self.linear1(x)\n",
        "    out = self.relu(out)\n",
        "    out =self.linear2(out)\n",
        "    out = self.sigmoid(out)\n",
        "    return out\n",
        "\n",
        "\n",
        "# Option2 (use Activation functions directly in forward pass)\n",
        "class NeuralNet(nn.Module):\n",
        "  def __init__(self,input_size,hidden_size):\n",
        "    super(NeuralNet,self).__init__()\n",
        "    self.linear1 = nn.Linear(input_size,hidden_size)\n",
        "    self.linear2 = nn.Linear(hidden_size,1)\n",
        "\n",
        "  def forward(self,x):\n",
        "    out = torch.relu(self.linear(x))\n",
        "    out = torch.sigmoid(self.linear2(out))\n",
        "    # torch.softmax \n",
        "    # torch.tanh\n",
        "    return out "
      ]
    },
    {
      "cell_type": "markdown",
      "metadata": {
        "id": "F5prt7s7XLS5"
      },
      "source": [
        "# 14) Feed-Forward Neural Network "
      ]
    },
    {
      "cell_type": "code",
      "execution_count": null,
      "metadata": {
        "id": "UVSWtDRUxXKa"
      },
      "outputs": [],
      "source": [
        "#MNIST \n",
        "#DataLoad, Transformation \n",
        "#Multilayer Neural Net, activation function \n",
        "#Loss and Optimizer \n",
        "# Training Loop (batch training).\n",
        "# Model evaluation \n",
        "# GPU support \n",
        "import torch \n",
        "import torch.nn as nn \n",
        "import torchvision.transforms as transforms \n",
        "import matplotlib.pyplot as plt \n",
        "import seaborn as sns \n",
        "import pandas as pd \n",
        "import torchvision"
      ]
    },
    {
      "cell_type": "code",
      "execution_count": null,
      "metadata": {
        "id": "aMV7JWWAYGqc"
      },
      "outputs": [],
      "source": [
        "#  Device Config \n",
        "device = torch.device('cpu')\n"
      ]
    },
    {
      "cell_type": "code",
      "execution_count": null,
      "metadata": {
        "colab": {
          "base_uri": "https://localhost:8080/",
          "height": 525
        },
        "id": "SoQqAjfMYc-5",
        "outputId": "1b96533c-8e44-4b6e-c92d-39a53ccc5b34"
      },
      "outputs": [
        {
          "name": "stdout",
          "output_type": "stream",
          "text": [
            "torch.Size([100, 1, 28, 28]) torch.Size([100])\n"
          ]
        },
        {
          "data": {
            "image/png": "[encoded data removed]",
            "text/plain": [
              "<Figure size 432x288 with 6 Axes>"
            ]
          },
          "metadata": {},
          "output_type": "display_data"
        },
        {
          "name": "stdout",
          "output_type": "stream",
          "text": [
            "epoch 1 / 2, step 100 / 600, loss = 0.46323609352111816:.4f\n",
            "epoch 1 / 2, step 200 / 600, loss = 0.3883960247039795:.4f\n",
            "epoch 1 / 2, step 300 / 600, loss = 0.30900904536247253:.4f\n",
            "epoch 1 / 2, step 400 / 600, loss = 0.23259185254573822:.4f\n",
            "epoch 1 / 2, step 500 / 600, loss = 0.28404632210731506:.4f\n",
            "epoch 1 / 2, step 600 / 600, loss = 0.2193560153245926:.4f\n",
            "epoch 2 / 2, step 100 / 600, loss = 0.21988509595394135:.4f\n",
            "epoch 2 / 2, step 200 / 600, loss = 0.22534483671188354:.4f\n",
            "epoch 2 / 2, step 300 / 600, loss = 0.249760240316391:.4f\n",
            "epoch 2 / 2, step 400 / 600, loss = 0.2441970258951187:.4f\n",
            "epoch 2 / 2, step 500 / 600, loss = 0.27518290281295776:.4f\n",
            "epoch 2 / 2, step 600 / 600, loss = 0.21321937441825867:.4f\n",
            "accuracy = 95.11\n"
          ]
        }
      ],
      "source": [
        "# Hyper parameters \n",
        "input_size = 784 # 28x28 = 784, as our img is 28 by 28 and when we flatten the resultant is 784 \n",
        "hidden_size = 100 \n",
        "num_classes = 10 \n",
        "num_epochs = 2 \n",
        "batch_size = 100 \n",
        "learning_rate = 0.001 \n",
        "\n",
        "# MNIST \n",
        "# train_dataset = torchvision.datasets.MNIST(root=\"./data\", train = True, transform = transforms.ToTensor(),download = True)\n",
        "train_dataset = torchvision.datasets.MNIST(root=\"./data\", train = True, transform = transforms.ToTensor())\n",
        "\n",
        "test_dataset = torchvision.datasets.MNIST(root=\"./data\", train = False, transform = transforms.ToTensor())\n",
        "\n",
        "train_loader = torch.utils.data.DataLoader(dataset = train_dataset,batch_size=batch_size,shuffle = True)\n",
        "test_loader = torch.utils.data.DataLoader(dataset = test_dataset,batch_size=batch_size,shuffle = False)\n",
        "\n",
        "examples = iter(train_loader)\n",
        "samples, labels = examples.next()\n",
        "print(samples.shape,labels.shape)\n",
        "\n",
        "for i in range(6):\n",
        "  plt.subplot(2,3,i+1)\n",
        "  plt.imshow(samples[i][0],cmap = \"gray\")\n",
        "plt.show()\n",
        "\n",
        "\n",
        "# creating a multilayer neural network with one hidden layer \n",
        "\n",
        "class NeuralNet(nn.Module):\n",
        "  def __init__(self,input_size,hidden_size,num_classes):\n",
        "    super(NeuralNet, self).__init__()\n",
        "    self.l1 = nn.Linear(input_size,hidden_size)\n",
        "    self.relu = nn.ReLU()\n",
        "    self.l2 = nn.Linear(hidden_size, num_classes)\n",
        "\n",
        "  def forward(self,x):\n",
        "    out = self.l1(x)\n",
        "    out = self.relu(out)\n",
        "    out = self.l2(out)\n",
        "    return out\n",
        "model = NeuralNet(input_size, hidden_size,num_classes)\n",
        "\n",
        "#  loss and optimizer \n",
        "criterion = nn.CrossEntropyLoss()\n",
        "optimizer = torch.optim.Adam(model.parameters(),lr = learning_rate)\n",
        "\n",
        "\n",
        "# Training loop \n",
        "n_total_step = len(train_loader)\n",
        "for epoch in range(num_epochs):\n",
        "  for i, (images,labels) in enumerate(train_loader):\n",
        "    # 100, 1, 28,28 \n",
        "    #  100, 784\n",
        "    # reshaping \n",
        "    images = images.reshape(-1,28*28).to(device)\n",
        "    labels = labels.to(device)\n",
        "\n",
        "    \n",
        "\n",
        "\n",
        "    # forward pass\n",
        "    outputs = model(images)\n",
        "    loss = criterion(outputs,labels)\n",
        "\n",
        "    # backwards\n",
        "    optimizer.zero_grad()\n",
        "    loss.backward()\n",
        "    optimizer.step()\n",
        "\n",
        "    if (i+1)%100 == 0:\n",
        "      print(f'epoch {epoch+1} / {num_epochs}, step {i+1} / {n_total_step}, loss = {loss.item()}:.4f')\n",
        "\n",
        "  # testing and evaluation \n",
        "\n",
        "  with torch.no_grad():\n",
        "    n_correct = 0 \n",
        "    n_samples = 0 \n",
        "    for images,labels in test_loader:\n",
        "      images = images.reshape(-1,28*28).to(device)\n",
        "      labels = labels.to(device)\n",
        "      outputs = model(images)\n",
        "\n",
        "      # values, index \n",
        "\n",
        "      _, predictions = torch.max(outputs,1)\n",
        "      n_samples +=labels.shape[0]\n",
        "      n_correct += (predictions == labels).sum().item()\n",
        "acc = 100.0 * n_correct / n_samples \n",
        "print(f'accuracy = {acc}')\n",
        "      \n",
        "\n",
        "\n",
        "\n",
        "\n"
      ]
    },
    {
      "cell_type": "markdown",
      "metadata": {
        "id": "4xTiYa4vhh7I"
      },
      "source": [
        "# 15 )Convolutional Neural Network \n",
        "## Image Classifier using cifar data\n"
      ]
    },
    {
      "cell_type": "code",
      "execution_count": null,
      "metadata": {
        "id": "n2Bys7mpaJnG"
      },
      "outputs": [],
      "source": [
        "import torch \n",
        "import torch.nn as nn \n",
        "import torch.nn.functional as F \n",
        "import torchvision.transforms as transforms \n",
        "import matplotlib.pyplot as plt \n",
        "import numpy as np \n",
        "import torchvision \n"
      ]
    },
    {
      "cell_type": "code",
      "execution_count": null,
      "metadata": {
        "id": "XKVTDVzGDzKW"
      },
      "outputs": [],
      "source": [
        "# Device configuration \n",
        "device = torch.device('cuda' if torch.cuda.is_available() else 'cpu')"
      ]
    },
    {
      "cell_type": "code",
      "execution_count": null,
      "metadata": {
        "colab": {
          "base_uri": "https://localhost:8080/"
        },
        "id": "vlwr5NhBD-78",
        "outputId": "295072f1-a176-4356-9778-418f3cd57f03"
      },
      "outputs": [
        {
          "name": "stdout",
          "output_type": "stream",
          "text": [
            "Files already downloaded and verified\n",
            "Files already downloaded and verified\n"
          ]
        }
      ],
      "source": [
        "# Hyper-parameters \n",
        "num_epochs = 10 \n",
        "batch_size = 4 \n",
        "learning_rate = 0.001\n",
        "\n",
        "# dataset has PILImages of range [0,1]\n",
        "# we transform them to Tensors of normalized range [-1,1]\n",
        "\n",
        "transform = transforms.Compose(\n",
        "    [transforms.ToTensor(),\n",
        "     transforms.Normalize((0.5,0.5,0.5),(0.5,0.5,0.5))]\n",
        ")\n",
        "\n",
        "train_dataset = torchvision.datasets.CIFAR10(root='./data',train=True,download = True, transform=transform)\n",
        "test_dataset = torchvision.datasets.CIFAR10(root='./data',train=False,download=True,transform=transform)\n",
        "train_loader = torch.utils.data.DataLoader(train_dataset, batch_size = batch_size, shuffle=True)\n",
        "test_loader = torch.utils.data.DataLoader(test_dataset,batch_size=batch_size,shuffle=False)\n"
      ]
    },
    {
      "cell_type": "code",
      "execution_count": null,
      "metadata": {
        "id": "-UB5zbBMGBTc"
      },
      "outputs": [],
      "source": [
        "classes = ('plane','car',\"bird\",'cat','deer','dog','frog','horse','ship','truck')\n"
      ]
    },
    {
      "cell_type": "code",
      "execution_count": null,
      "metadata": {
        "colab": {
          "base_uri": "https://localhost:8080/"
        },
        "id": "tBPKQVj7Gm7d",
        "outputId": "222d78a2-c0d6-416b-fe71-7335fc6c9c20"
      },
      "outputs": [
        {
          "name": "stdout",
          "output_type": "stream",
          "text": [
            "Epoch  [1], step [2000/12500], Loss: 2.3086\n",
            "Epoch  [1], step [4000/12500], Loss: 2.2894\n",
            "Epoch  [1], step [6000/12500], Loss: 2.3028\n",
            "Epoch  [1], step [8000/12500], Loss: 2.2990\n",
            "Epoch  [1], step [10000/12500], Loss: 2.2374\n",
            "Epoch  [1], step [12000/12500], Loss: 2.2678\n",
            "Training Finished\n",
            "Epoch  [2], step [2000/12500], Loss: 2.3540\n",
            "Epoch  [2], step [4000/12500], Loss: 1.8713\n",
            "Epoch  [2], step [6000/12500], Loss: 2.4104\n",
            "Epoch  [2], step [8000/12500], Loss: 2.0367\n",
            "Epoch  [2], step [10000/12500], Loss: 2.1713\n",
            "Epoch  [2], step [12000/12500], Loss: 1.7900\n",
            "Training Finished\n",
            "Epoch  [3], step [2000/12500], Loss: 2.2925\n",
            "Epoch  [3], step [4000/12500], Loss: 2.1899\n",
            "Epoch  [3], step [6000/12500], Loss: 2.3109\n",
            "Epoch  [3], step [8000/12500], Loss: 1.3100\n",
            "Epoch  [3], step [10000/12500], Loss: 2.3741\n",
            "Epoch  [3], step [12000/12500], Loss: 1.5843\n",
            "Training Finished\n",
            "Epoch  [4], step [2000/12500], Loss: 1.2848\n",
            "Epoch  [4], step [4000/12500], Loss: 2.1034\n",
            "Epoch  [4], step [6000/12500], Loss: 2.6785\n",
            "Epoch  [4], step [8000/12500], Loss: 0.9055\n",
            "Epoch  [4], step [10000/12500], Loss: 1.5621\n",
            "Epoch  [4], step [12000/12500], Loss: 1.0631\n",
            "Training Finished\n",
            "Epoch  [5], step [2000/12500], Loss: 1.8669\n",
            "Epoch  [5], step [4000/12500], Loss: 1.9638\n",
            "Epoch  [5], step [6000/12500], Loss: 1.3509\n",
            "Epoch  [5], step [8000/12500], Loss: 1.0312\n",
            "Epoch  [5], step [10000/12500], Loss: 1.0822\n",
            "Epoch  [5], step [12000/12500], Loss: 1.2329\n",
            "Training Finished\n",
            "Epoch  [6], step [2000/12500], Loss: 1.8213\n",
            "Epoch  [6], step [4000/12500], Loss: 1.4305\n",
            "Epoch  [6], step [6000/12500], Loss: 1.7011\n",
            "Epoch  [6], step [8000/12500], Loss: 2.9969\n",
            "Epoch  [6], step [10000/12500], Loss: 1.2153\n",
            "Epoch  [6], step [12000/12500], Loss: 1.7702\n",
            "Training Finished\n",
            "Epoch  [7], step [2000/12500], Loss: 1.5224\n",
            "Epoch  [7], step [4000/12500], Loss: 1.3709\n",
            "Epoch  [7], step [6000/12500], Loss: 0.6158\n",
            "Epoch  [7], step [8000/12500], Loss: 2.5333\n",
            "Epoch  [7], step [10000/12500], Loss: 1.1346\n",
            "Epoch  [7], step [12000/12500], Loss: 3.7260\n",
            "Training Finished\n",
            "Epoch  [8], step [2000/12500], Loss: 0.4714\n",
            "Epoch  [8], step [4000/12500], Loss: 1.1885\n",
            "Epoch  [8], step [6000/12500], Loss: 1.2269\n",
            "Epoch  [8], step [8000/12500], Loss: 2.6893\n",
            "Epoch  [8], step [10000/12500], Loss: 0.3843\n",
            "Epoch  [8], step [12000/12500], Loss: 1.1238\n",
            "Training Finished\n",
            "Epoch  [9], step [2000/12500], Loss: 1.1062\n",
            "Epoch  [9], step [4000/12500], Loss: 0.4308\n",
            "Epoch  [9], step [6000/12500], Loss: 0.7782\n",
            "Epoch  [9], step [8000/12500], Loss: 1.5383\n",
            "Epoch  [9], step [10000/12500], Loss: 1.7408\n",
            "Epoch  [9], step [12000/12500], Loss: 1.6362\n",
            "Training Finished\n",
            "Epoch  [10], step [2000/12500], Loss: 0.8927\n",
            "Epoch  [10], step [4000/12500], Loss: 1.6822\n",
            "Epoch  [10], step [6000/12500], Loss: 1.9407\n",
            "Epoch  [10], step [8000/12500], Loss: 3.7121\n",
            "Epoch  [10], step [10000/12500], Loss: 1.7725\n",
            "Epoch  [10], step [12000/12500], Loss: 0.9201\n",
            "Training Finished\n"
          ]
        }
      ],
      "source": [
        "class ConvNet(nn.Module):\n",
        "  def __init__(self):\n",
        "    super(ConvNet, self).__init__()\n",
        "\n",
        "    self.conv1 = nn.Conv2d(3,6,5)\n",
        "\n",
        "    #  conv = nn.Conv2d(input_size,output_size,kernel)\n",
        "    self.pool = nn.MaxPool2d(2,2)\n",
        "    self.conv2 = nn.Conv2d(6,16,5)\n",
        "    # fullyconnected layer\n",
        "    self.fc1 = nn.Linear(16*5*5,120)\n",
        "    self.fc2 = nn.Linear(120,84)\n",
        "    self.fc3 = nn.Linear(84,10)\n",
        "\n",
        "\n",
        "  def forward(self,x):\n",
        "    # -> n, 3, 32, 32\n",
        "    x = self.pool(F.relu(self.conv1(x)))  # -> n, 6, 14, 14\n",
        "    x = self.pool(F.relu(self.conv2(x)))  # -> n, 16, 5, 5\n",
        "    # flatten layer\n",
        "    x = x.view(-1, 16 * 5 * 5)            # -> n, 400\n",
        "    x = F.relu(self.fc1(x))               # -> n, 120\n",
        "    x = F.relu(self.fc2(x))               # -> n, 84\n",
        "    x = self.fc3(x)                       # -> n, 10\n",
        "    return x \n",
        "model = ConvNet().to(device)\n",
        "criterion = nn.CrossEntropyLoss()\n",
        "optimizer = torch.optim.SGD(model.parameters(),lr=learning_rate)\n",
        "\n",
        "n_total_steps = len(train_loader)\n",
        "for epoch in range(num_epochs):\n",
        "  for i, (images,labels) in enumerate(train_loader):\n",
        "    # origin shape: [2,3,32,32] = 4,3,1024\n",
        "    # input_layer: 3 input channels, 6 output channels, 5 kernel size \n",
        "    images = images.to(device)\n",
        "    labels = labels.to(device)\n",
        "\n",
        "    # forward pass \n",
        "    outputs = model(images)\n",
        "    loss = criterion(outputs,labels)\n",
        "\n",
        "\n",
        "    #  Backward and optimize \n",
        "    optimizer.zero_grad()\n",
        "    loss.backward()\n",
        "    optimizer.step()\n",
        "\n",
        "\n",
        "    if (i+1)%2000 ==0:\n",
        "      print(f'Epoch  [{epoch+1}], step [{i+1}/{n_total_steps}], Loss: {loss.item():.4f}')\n",
        "\n",
        "\n",
        "\n",
        "  print('Training Finished')\n",
        "  "
      ]
    },
    {
      "cell_type": "code",
      "execution_count": null,
      "metadata": {
        "colab": {
          "base_uri": "https://localhost:8080/",
          "height": 415
        },
        "id": "uoPTvvsfIrmI",
        "outputId": "69b8663e-c250-4c8d-8b7c-7984fc0fd609"
      },
      "outputs": [
        {
          "data": {
            "image/png": "[encoded data removed]",
            "text/plain": [
              "<Figure size 432x288 with 1 Axes>"
            ]
          },
          "metadata": {},
          "output_type": "display_data"
        },
        {
          "data": {
            "image/png": "[encoded data removed]",
            "text/plain": [
              "<Figure size 432x288 with 1 Axes>"
            ]
          },
          "metadata": {},
          "output_type": "display_data"
        },
        {
          "name": "stdout",
          "output_type": "stream",
          "text": [
            "torch.Size([4, 3, 32, 32])\n",
            "after conv1\n",
            "torch.Size([4, 6, 28, 28])\n",
            "after pooling\n",
            "torch.Size([4, 6, 14, 14])\n",
            "after conv2\n",
            "torch.Size([4, 16, 10, 10])\n",
            "after pooling\n",
            "torch.Size([4, 16, 5, 5])\n"
          ]
        }
      ],
      "source": [
        "def imshow(img):\n",
        "  img = img/ 2 + 0.5 # unnormalize \n",
        "  npimg = img.numpy()\n",
        "  plt.imshow(np.transpose(npimg,(1,2,0)))\n",
        "  plt.show() \n",
        "# get some random training images \n",
        "dataiter = iter(train_loader)\n",
        "images,labels = dataiter.next()\n",
        "\n",
        "\n",
        "# show images \n",
        "imshow(torchvision.utils.make_grid(images))\n",
        "\n",
        "# show images \n",
        "imshow(torchvision.utils.make_grid(images))\n",
        "\n",
        "conv1 = nn.Conv2d(3,6,5)\n",
        "pool = nn.MaxPool2d(2,2)\n",
        "conv2 = nn.Conv2d(6,16,5)\n",
        "print(images.shape)\n",
        "x = conv1(images)\n",
        "print(\"after conv1\")\n",
        "print(x.shape)\n",
        "x = pool(x)\n",
        "print('after pooling')\n",
        "print(x.shape)\n",
        "x = conv2(x)\n",
        "print(\"after conv2\")\n",
        "print(x.shape)\n",
        "x = pool(x)\n",
        "print('after pooling')\n",
        "print(x.shape)"
      ]
    },
    {
      "cell_type": "code",
      "execution_count": null,
      "metadata": {
        "colab": {
          "base_uri": "https://localhost:8080/"
        },
        "id": "S9XhecpQkSwu",
        "outputId": "7cc14b19-0da4-4218-9503-65838513aa3e"
      },
      "outputs": [
        {
          "name": "stdout",
          "output_type": "stream",
          "text": [
            "Accuracy of Convolutional Neural Net =57.11000000000001%\n",
            "Accuracy of plane: 56.49999999999999%\n",
            "Accuracy of car: 80.10000000000001%\n",
            "Accuracy of bird: 35.3%\n",
            "Accuracy of cat: 37.5%\n",
            "Accuracy of deer: 51.1%\n",
            "Accuracy of dog: 41.5%\n",
            "Accuracy of frog: 68.0%\n",
            "Accuracy of horse: 69.5%\n",
            "Accuracy of ship: 65.4%\n",
            "Accuracy of truck: 66.2%\n"
          ]
        }
      ],
      "source": [
        "with torch.no_grad():\n",
        "  n_correct = 0\n",
        "  n_samples = 0\n",
        "  n_class_correct = [0 for i in range(10)]\n",
        "  n_class_samples = [0 for i in range(10)]\n",
        "\n",
        "  for images,labels in test_loader:\n",
        "    image = images.to(device)\n",
        "    label = labels.to(device)\n",
        "    output= model(image)\n",
        "\n",
        "    # max return value and index \n",
        "\n",
        "\n",
        "    _,predicted = torch.max(output,1)\n",
        "\n",
        "    n_samples += labels.size(0)\n",
        "    n_correct += (predicted == labels).sum().item()\n",
        "\n",
        "\n",
        "    for i in range(batch_size):\n",
        "      label = labels[i]\n",
        "      pred = predicted[i]\n",
        "      if (pred == label):\n",
        "        n_class_correct[label] +=1 \n",
        "      n_class_samples[label]+=1\n",
        "\n",
        "  acc = 100.0 * (n_correct / n_samples) \n",
        "\n",
        "  print(f'Accuracy of Convolutional Neural Net ={acc}%')\n",
        "\n",
        "  for i in range(len(classes)):\n",
        "    acc = 100.0 * (n_class_correct[i]/n_class_samples[i])\n",
        "    print(f'Accuracy of {classes[i]}: {acc}%')\n",
        "\n",
        "\n",
        "      "
      ]
    },
    {
      "cell_type": "markdown",
      "metadata": {
        "id": "jWqfAhKECB4f"
      },
      "source": [
        "# 16) Transfer Learning\n"
      ]
    },
    {
      "cell_type": "code",
      "execution_count": null,
      "metadata": {
        "id": "-FbN-gEz9ZCp"
      },
      "outputs": [],
      "source": [
        "'''transfer learning is a machine learning method where we reuse a pre-trained model as the starting point for a model on a new task. To put it simply—a model trained on one task is repurposed on a second, related task as an optimization that allows rapid progress when modeling the second task.'''\n",
        "\n",
        "\n",
        "# Image Folder \n",
        "# Scheduler \n",
        "# Transfer Learning \n",
        "\n",
        "import torch \n",
        "import torch.nn as nn \n",
        "import torch.optim as optim \n",
        "from torch.optim import lr_scheduler\n",
        "import numpy as np \n",
        "import torchvision \n",
        "from torchvision import datasets, models, transforms \n",
        "import matplotlib.pyplot as plt \n",
        "import time \n",
        "import os \n",
        "import copy \n"
      ]
    },
    {
      "cell_type": "code",
      "execution_count": null,
      "metadata": {
        "id": "MiRbllmvHu5O"
      },
      "outputs": [],
      "source": [
        "device = torch.device('cuda' if torch.cuda.is_available() else 'cpu')"
      ]
    },
    {
      "cell_type": "code",
      "execution_count": null,
      "metadata": {
        "id": "YefAX9JIH25v"
      },
      "outputs": [],
      "source": [
        "mean = np.array([0.485,0.456,0.406])\n",
        "std = np.array([0.229,0.224,0.225])\n",
        "\n",
        "\n",
        "data_transforms = {\n",
        "    'train': transforms.Compose([\n",
        "        transforms.RandomResizedCrop(224),\n",
        "        transforms.RandomHorizontalFlip(),\n",
        "        transforms.ToTensor(),\n",
        "        transforms.Normalize(mean,std)\n",
        "    ]),\n",
        "\n",
        "    'val': transforms.Compose([\n",
        "        transforms.Resize(256),\n",
        "        transforms.CenterCrop(224),\n",
        "        transforms.ToTensor(),\n",
        "        transforms.Normalize(mean,std)\n",
        "            ]),\n",
        "}\n",
        "\n"
      ]
    },
    {
      "cell_type": "code",
      "execution_count": null,
      "metadata": {
        "colab": {
          "base_uri": "https://localhost:8080/"
        },
        "id": "nZPmcYAabfpA",
        "outputId": "992ca142-724b-4a7d-99e1-72b8e8862522"
      },
      "outputs": [
        {
          "name": "stdout",
          "output_type": "stream",
          "text": [
            "--2022-11-06 08:27:50--  https://download.pytorch.org/tutorial/hymenoptera_data.zip\n",
            "Resolving download.pytorch.org (download.pytorch.org)... 13.249.85.7, 13.249.85.10, 13.249.85.72, ...\n",
            "Connecting to download.pytorch.org (download.pytorch.org)|13.249.85.7|:443... connected.\n",
            "HTTP request sent, awaiting response... 200 OK\n",
            "Length: 47286322 (45M) [application/zip]\n",
            "Saving to: ‘hymenoptera_data.zip.2’\n",
            "\n",
            "hymenoptera_data.zi 100%[===================>]  45.10M  70.4MB/s    in 0.6s    \n",
            "\n",
            "2022-11-06 08:27:51 (70.4 MB/s) - ‘hymenoptera_data.zip.2’ saved [47286322/47286322]\n",
            "\n",
            "Archive:  hymenoptera_data.zip\n",
            "replace hymenoptera_data/train/ants/0013035.jpg? [y]es, [n]o, [A]ll, [N]one, [r]ename: "
          ]
        }
      ],
      "source": [
        "# Data downloading and importing \n",
        "# downloading zipfile\n",
        "!wget https://download.pytorch.org/tutorial/hymenoptera_data.zip\n",
        "\n",
        "# unzipping the data\n",
        "!unzip hymenoptera_data.zip\n"
      ]
    },
    {
      "cell_type": "code",
      "execution_count": null,
      "metadata": {
        "colab": {
          "base_uri": "https://localhost:8080/"
        },
        "id": "eTsIuHEjKpBA",
        "outputId": "13458d20-1060-44fd-ebae-2bdd6bdccb77"
      },
      "outputs": [
        {
          "output_type": "stream",
          "name": "stdout",
          "text": [
            "['ants', 'bees']\n"
          ]
        }
      ],
      "source": [
        "\n",
        "\n",
        "\n",
        "# importing data\n",
        "data_dir = \"/content/hymenoptera_data\"\n",
        "sets = ['train','val']\n",
        "image_datasets = {\n",
        "    x:datasets.ImageFolder(os.path.join(data_dir,x),data_transforms[x])\n",
        "    for x in ['train','val']\n",
        "}\n",
        "dataloaders = {\n",
        "    x:torch.utils.data.DataLoader(image_datasets[x],batch_size=4,\n",
        "                                 shuffle = True, num_workers=0)\n",
        "    for x in ['train','val']}\n",
        "\n",
        "dataset_sizes = {x:len(image_datasets[x]) for x in ['train','val']}\n",
        "class_names = image_datasets['train'].classes\n",
        "print(class_names)\n",
        "\n"
      ]
    },
    {
      "cell_type": "code",
      "execution_count": null,
      "metadata": {
        "colab": {
          "base_uri": "https://localhost:8080/",
          "height": 148
        },
        "id": "mwQbNB4I5fWh",
        "outputId": "4cdcd027-0217-484b-a1c0-15927ef6c9a0"
      },
      "outputs": [
        {
          "output_type": "display_data",
          "data": {
            "text/plain": [
              "<Figure size 432x288 with 1 Axes>"
            ],
            "image/png": "[encoded data removed]"
          },
          "metadata": {
            "needs_background": "light"
          }
        }
      ],
      "source": [
        "def imshow(inp, title):\n",
        "    \"\"\"Imshow for Tensor.\"\"\"\n",
        "    inp = inp.numpy().transpose((1, 2, 0))\n",
        "    inp = std * inp + mean\n",
        "    inp = np.clip(inp, 0, 1)\n",
        "    plt.imshow(inp)\n",
        "    plt.title(title)\n",
        "    plt.show()\n",
        "\n",
        "\n",
        "# Get a batch of training data\n",
        "inputs, classes = next(iter(dataloaders['train']))\n",
        "\n",
        "# Make a grid from batch\n",
        "out = torchvision.utils.make_grid(inputs)\n",
        "\n",
        "imshow(out, title=[class_names[x] for x in classes])\n"
      ]
    },
    {
      "cell_type": "code",
      "execution_count": null,
      "metadata": {
        "id": "kKYgLBu9CZyj"
      },
      "outputs": [],
      "source": [
        "def train_model(model, criterion, optimizer, scheduler, num_epochs=25):\n",
        "    since = time.time()\n",
        "\n",
        "    best_model_wts = copy.deepcopy(model.state_dict())\n",
        "    best_acc = 0.0\n",
        "\n",
        "    for epoch in range(num_epochs):\n",
        "        print('Epoch {}/{}'.format(epoch, num_epochs - 1))\n",
        "        print('-' * 10)\n",
        "\n",
        "        # Each epoch has a training and validation phase\n",
        "        for phase in ['train', 'val']:\n",
        "            if phase == 'train':\n",
        "                model.train()  # Set model to training mode\n",
        "            else:\n",
        "                model.eval()   # Set model to evaluate mode\n",
        "\n",
        "            running_loss = 0.0\n",
        "            running_corrects = 0\n",
        "\n",
        "            # Iterate over data.\n",
        "            for inputs, labels in dataloaders[phase]:\n",
        "                inputs = inputs.to(device)\n",
        "                labels = labels.to(device)\n",
        "\n",
        "                # forward\n",
        "                # track history if only in train\n",
        "                with torch.set_grad_enabled(phase == 'train'):\n",
        "                    outputs = model(inputs)\n",
        "                    _, preds = torch.max(outputs, 1)\n",
        "                    loss = criterion(outputs, labels)\n",
        "\n",
        "                    # backward + optimize only if in training phase\n",
        "                    if phase == 'train':\n",
        "                        optimizer.zero_grad()\n",
        "                        loss.backward()\n",
        "                        optimizer.step()\n",
        "\n",
        "                # statistics\n",
        "                running_loss += loss.item() * inputs.size(0)\n",
        "                running_corrects += torch.sum(preds == labels.data)\n",
        "\n",
        "            if phase == 'train':\n",
        "                scheduler.step()\n",
        "\n",
        "            epoch_loss = running_loss / dataset_sizes[phase]\n",
        "            epoch_acc = running_corrects.double() / dataset_sizes[phase]\n",
        "\n",
        "            print('{} Loss: {:.4f} Acc: {:.4f}'.format(\n",
        "                phase, epoch_loss, epoch_acc))\n",
        "\n",
        "            # deep copy the model\n",
        "            if phase == 'val' and epoch_acc > best_acc:\n",
        "                best_acc = epoch_acc\n",
        "                best_model_wts = copy.deepcopy(model.state_dict())\n",
        "\n",
        "        print()\n",
        "\n",
        "    time_elapsed = time.time() - since\n",
        "    print('Training complete in {:.0f}m {:.0f}s'.format(\n",
        "        time_elapsed // 60, time_elapsed % 60))\n",
        "    print('Best val Acc: {:4f}'.format(best_acc))\n",
        "\n",
        "    # load best model weights\n",
        "    model.load_state_dict(best_model_wts)\n",
        "    return model\n"
      ]
    },
    {
      "cell_type": "code",
      "execution_count": null,
      "metadata": {
        "colab": {
          "base_uri": "https://localhost:8080/"
        },
        "id": "v4SbxYyuasNj",
        "outputId": "1e044d96-bd11-4c46-ca70-9996941b7d21"
      },
      "outputs": [
        {
          "output_type": "stream",
          "name": "stdout",
          "text": [
            "Epoch 0/1\n",
            "----------\n",
            "train Loss: 0.6289 Acc: 0.6598\n",
            "val Loss: 0.5140 Acc: 0.8170\n",
            "\n",
            "Epoch 1/1\n",
            "----------\n",
            "train Loss: 0.5748 Acc: 0.6680\n",
            "val Loss: 0.4757 Acc: 0.8105\n",
            "\n",
            "Training complete in 1m 26s\n",
            "Best val Acc: 0.816993\n"
          ]
        }
      ],
      "source": [
        "# # First way to use transfer learning\n",
        "# model = torchvision.models.resnet18(pretrained=True)\n",
        "# # collecting the total number of features in the last layer \n",
        "# num_ftrs = model.fc.in_features\n",
        "\n",
        "# #  Here the size of each output sample is set to 2.\n",
        "# # Alternatively, it can be generalized to nn.Linear(num_ftrs, len(class_names)).\n",
        "# model.fc = nn.Linear(num_ftrs,2)\n",
        "# model.to(device)\n",
        "\n",
        "# criterion = nn.CrossEntropyLoss()\n",
        "# optimizer = optim.SGD(model.parameters(),lr=0.001)\n",
        "\n",
        "# # scheduler\n",
        "# # This means after every 7 epochs our learning rate will be multiply by gamma\n",
        "# step_lr_scheduler = lr_scheduler.StepLR(optimizer,step_size=7,gamma= 0.1)\n",
        "# # # loop\n",
        "# # for eopch in range(100):\n",
        "# #   train() # optimizer.step()\n",
        "# #   evaluate()\n",
        "# #   scheduler.step()\n",
        "\n",
        "# model = train_model(model,criterion,optimizer,step_lr_scheduler,num_epochs=25)\n",
        "\n",
        "\n",
        "#########################################################################\n",
        "\n",
        "\n",
        "# Second way to use transfer learning \n",
        "# By freezing all the layers except last fully connected layer\n",
        "model_conv = torchvision.models.resnet18(pretrained=True)\n",
        "for param in model_conv.parameters():\n",
        "  param.requires_grad = False\n",
        "# collecting the total number of features in the last layer \n",
        "num_ftrs = model_conv.fc.in_features\n",
        "\n",
        "model_conv.fc = nn.Linear(num_ftrs,2)\n",
        "model_conv = model_conv.to(device)\n",
        "\n",
        "criterion = nn.CrossEntropyLoss()\n",
        "optimizer_conv = optim.SGD(model_conv.parameters(),lr=0.001)\n",
        "\n",
        "# scheduler\n",
        "# This means after every 7 epochs our learning rate will be multiply by gamma\n",
        "step_lr_scheduler = lr_scheduler.StepLR(optimizer_conv,step_size=7,gamma= 0.1)\n",
        "# # loop\n",
        "# for eopch in range(100):\n",
        "#   train() # optimizer.step()\n",
        "#   evaluate()\n",
        "#   scheduler.step()\n",
        "\n",
        "model_conv = train_model(model_conv,criterion,optimizer_conv,step_lr_scheduler,num_epochs=2)\n"
      ]
    },
    {
      "cell_type": "markdown",
      "source": [
        "# 17) How to use tensorboard."
      ],
      "metadata": {
        "id": "ww3L19MnOwdb"
      }
    },
    {
      "cell_type": "code",
      "source": [
        "import torch \n",
        "import torch.nn as nn \n",
        "import torch.nn.functional as F \n",
        "import torchvision.transforms as transforms \n",
        "import matplotlib.pyplot as plt \n",
        "import numpy as np \n",
        "import torchvision \n",
        "from torch.utils.tensorboard import SummaryWriter\n",
        "import sys\n",
        "\n",
        "\n",
        "writer = SummaryWriter(\"runs/mnist\")\n",
        "device = torch.device('cpu')\n",
        "\n",
        "\n",
        "\n",
        "# Hyper parameters \n",
        "input_size = 784 # 28x28 = 784, as our img is 28 by 28 and when we flatten the resultant is 784 \n",
        "hidden_size = 100 \n",
        "num_classes = 10 \n",
        "num_epochs = 2 \n",
        "batch_size = 100 \n",
        "learning_rate = 0.001 \n",
        "\n",
        "# MNIST \n",
        "train_dataset = torchvision.datasets.MNIST(root=\"./data\", train = True, transform = transforms.ToTensor(),download = True)\n",
        "train_dataset = torchvision.datasets.MNIST(root=\"./data\", train = True, transform = transforms.ToTensor())\n",
        "\n",
        "test_dataset = torchvision.datasets.MNIST(root=\"./data\", train = False, transform = transforms.ToTensor())\n",
        "\n",
        "train_loader = torch.utils.data.DataLoader(dataset = train_dataset,batch_size=batch_size,shuffle = True)\n",
        "test_loader = torch.utils.data.DataLoader(dataset = test_dataset,batch_size=batch_size,shuffle = False)\n",
        "\n",
        "examples = iter(train_loader)\n",
        "samples, labels = examples.next()\n",
        "print(samples.shape,labels.shape)\n",
        "\n",
        "for i in range(6):\n",
        "  plt.subplot(2,3,i+1)\n",
        "  plt.imshow(samples[i][0],cmap = \"gray\")\n",
        "# plt.show()\n",
        "\n",
        "\n",
        "# making the grid\n",
        "img_grid = torchvision.utils.make_grid(samples)\n",
        "writer.add_image('mnist_images',img_grid)\n",
        "\n",
        "writer.close()\n",
        "# sys.exit()\n",
        "\n",
        "# creating a multilayer neural network with one hidden layer \n",
        "\n",
        "class NeuralNet(nn.Module):\n",
        "  def __init__(self,input_size,hidden_size,num_classes):\n",
        "    super(NeuralNet, self).__init__()\n",
        "    self.l1 = nn.Linear(input_size,hidden_size)\n",
        "    self.relu = nn.ReLU()\n",
        "    self.l2 = nn.Linear(hidden_size, num_classes)\n",
        "\n",
        "  def forward(self,x):\n",
        "    out = self.l1(x)\n",
        "    out = self.relu(out)\n",
        "    out = self.l2(out)\n",
        "    return out\n",
        "model = NeuralNet(input_size, hidden_size,num_classes)\n",
        "\n",
        "#  loss and optimizer \n",
        "criterion = nn.CrossEntropyLoss()\n",
        "optimizer = torch.optim.Adam(model.parameters(),lr = learning_rate)\n",
        "\n",
        "# model graph \n",
        "writer.add_graph(model,samples.reshape(-1,28*28)) \n",
        "writer.close()\n",
        "# sys.exit()\n",
        "\n",
        "\n",
        "running_loss = 0.0 \n",
        "running_corrects =0 \n",
        "\n",
        "# Training loop \n",
        "n_total_step = len(train_loader)\n",
        "for epoch in range(num_epochs):\n",
        "  for i, (images,labels) in enumerate(train_loader):\n",
        "    # 100, 1, 28,28 \n",
        "    #  100, 784\n",
        "    # reshaping \n",
        "    images = images.reshape(-1,28*28).to(device)\n",
        "    labels = labels.to(device)\n",
        "\n",
        "    \n",
        "\n",
        "\n",
        "    # forward pass\n",
        "    outputs = model(images)\n",
        "    loss = criterion(outputs,labels)\n",
        "\n",
        "    # backwards\n",
        "    optimizer.zero_grad()\n",
        "    loss.backward()\n",
        "    optimizer.step()\n",
        "\n",
        "\n",
        "    running_loss +=loss.item()\n",
        "    _, predictions = torch.max(outputs,1)\n",
        "    running_corrects += (predictions==labels).sum().item()\n",
        "    if (i+1)%100 == 0:\n",
        "      print(f'epoch {epoch+1} / {num_epochs}, step {i+1} / {n_total_step}, loss = {loss.item()}:.4f')\n",
        "      writer.add_scalar('Training_loss', running_loss /100,epoch * n_total_step +i )\n",
        "      writer.add_scalar('accuracy', running_corrects /100,epoch * n_total_step +i )\n",
        "      running_loss = 0.0\n",
        "      running_corrects = 0\n",
        "\n",
        "  # testing and evaluation \n",
        "# In test phase, we don't need to compute gradients for memory efficience.\n",
        "\n",
        "  labels = []\n",
        "  preds = []\n",
        "  with torch.no_grad():\n",
        "    n_correct = 0 \n",
        "    n_samples = 0 \n",
        "    for images,labels1 in test_loader:\n",
        "      images = images.reshape(-1,28*28).to(device)\n",
        "      labels = labels1.to(device)\n",
        "      outputs = model(images)\n",
        "\n",
        "      # values, index \n",
        "\n",
        "      _, predictions = torch.max(outputs,1)\n",
        "      n_samples +=labels1.shape[0]\n",
        "      n_correct += (predictions == labels1).sum().item()\n",
        "\n",
        "      class_predictions = [F.softmax(output,dim=0) for output in outputs]\n",
        "      preds.append(class_predictions)\n",
        "      labels.append(predicted) \n",
        "    labels = torch.cat(labels)\n",
        "    preds = torch.cat([torch.stack(batch) for batch in preds])\n",
        "acc = 100.0 * n_correct / n_samples \n",
        "print(f'accuracy = {acc}')\n",
        "      \n",
        "classes = range(10)\n",
        "for i in classes:\n",
        "  labels_i = labels ==i\n",
        "  preds_i = pred[:i]\n",
        "  writer.add_pr_curve(str(i),labels_i,preds_i,global_step=0)\n",
        "\n",
        "\n",
        "\n"
      ],
      "metadata": {
        "colab": {
          "base_uri": "https://localhost:8080/",
          "height": 510
        },
        "id": "Bkq6d8IrPKvD",
        "outputId": "bb17435d-4703-42ac-b72f-d0011d806d46"
      },
      "execution_count": null,
      "outputs": [
        {
          "output_type": "stream",
          "name": "stdout",
          "text": [
            "torch.Size([100, 1, 28, 28]) torch.Size([100])\n",
            "epoch 1 / 2, step 100 / 600, loss = 0.42365825176239014:.4f\n",
            "epoch 1 / 2, step 200 / 600, loss = 0.3802460730075836:.4f\n",
            "epoch 1 / 2, step 300 / 600, loss = 0.25813746452331543:.4f\n",
            "epoch 1 / 2, step 400 / 600, loss = 0.192613422870636:.4f\n",
            "epoch 1 / 2, step 500 / 600, loss = 0.26015743613243103:.4f\n",
            "epoch 1 / 2, step 600 / 600, loss = 0.20152147114276886:.4f\n",
            "epoch 2 / 2, step 100 / 600, loss = 0.15191848576068878:.4f\n",
            "epoch 2 / 2, step 200 / 600, loss = 0.20028695464134216:.4f\n",
            "epoch 2 / 2, step 300 / 600, loss = 0.10168735682964325:.4f\n",
            "epoch 2 / 2, step 400 / 600, loss = 0.2400863617658615:.4f\n",
            "epoch 2 / 2, step 500 / 600, loss = 0.23696593940258026:.4f\n",
            "epoch 2 / 2, step 600 / 600, loss = 0.17371322214603424:.4f\n",
            "accuracy = 95.46\n"
          ]
        },
        {
          "output_type": "display_data",
          "data": {
            "text/plain": [
              "<Figure size 432x288 with 6 Axes>"
            ],
            "image/png": "[encoded data removed]"
          },
          "metadata": {
            "needs_background": "light"
          }
        }
      ]
    },
    {
      "cell_type": "markdown",
      "source": [
        "# 18) Saving and loading models"
      ],
      "metadata": {
        "id": "ACzZsQTt_FpL"
      }
    },
    {
      "cell_type": "code",
      "source": [
        "import torch \n",
        "import torch.nn as nn \n",
        "# There are three methods to save and load the model \n",
        "# 1) torch.save(arg,PATH)\n",
        "# 2)torch.load(PATH)\n",
        "# 3)model.load_state_dict(arg)\n",
        "\n",
        "\n",
        "\n",
        "# saving model: torch.save(arg,PATH)\n",
        "# In saving model use pickle : it serialise the result and save it. The result is serialise and not human readable.\n",
        "# In this tensor or dictionary as a parameter for saving \n",
        "\n",
        "# ###### COMPLETE MODEL ##############\n",
        "# torch.save(model,PATH)\n",
        "\n",
        "\n",
        "# model class must be defined somewhere \n",
        "# model = torch.load(PATH)\n",
        "# model.eval()\n",
        "\n",
        "\n",
        "\n",
        "\n",
        "\n",
        "\n",
        "# prefered way \n",
        "###########################                 STATE DICT                 ###################################\n",
        "\n",
        "# torch.save(model.state_dict(),PATH)\n",
        "\n",
        "# model must be created again with parameters \n",
        "# model - Model(*args, **kwargs)\n",
        "# model.load_state_dict(torch.load(PATH))\n",
        "# model.eval()\n",
        "\n",
        "\n",
        "\n",
        "# Practical \n",
        "\n",
        "\n",
        "class Model(nn.Module):\n",
        "  def __init__(self,n_input_features):\n",
        "    super(Model,self).__init__()\n",
        "    self.linear = nn.Linear(n_input_features,1)\n",
        "\n",
        "\n",
        "  def forward(self,x):\n",
        "    y_pred = torch.sigmoid(self.linear(x))\n",
        "    return y_pred\n",
        "# model = Model(n_input_features=6)\n",
        "\n",
        "\n",
        "# train your model \n",
        "\n",
        "\n",
        "# LAZY method \n",
        "# FILE = 'model.pth'\n",
        "# # torch.save(model,FILE)\n",
        "\n",
        "# # loading model \n",
        "# model = torch.load(FILE)\n",
        "# model.eval()\n",
        "\n",
        "# for param in model.parameters():\n",
        "#   print(param)\n",
        "\n",
        "\n",
        "\n",
        "# Prefered mothode \n",
        "# model = Model(n_input_features = 6)\n",
        "\n",
        "# FILE = 'model.pth'\n",
        "# torch.save(model.state_dict(),FILE)\n",
        "\n",
        "# # loading the model \n",
        "\n",
        "# loaded_model = Model(n_input_features=6)\n",
        "# loaded_model.load_state_dict(torch.load(FILE))\n",
        "\n",
        "# loaded_model.eval()\n",
        "\n",
        "# for param in loaded_model.parameters():\n",
        "#   print(param)\n",
        "\n",
        "\n",
        "\n",
        "# ##############   STATE DICT ############\n",
        "# model = Model(n_input_features=6)\n",
        "# print(model.state_dict())\n",
        "\n",
        "\n",
        "# saving all the checkpoints\n",
        "\n",
        "model = Model(n_input_features=6)\n",
        "\n",
        "learning_rate =0.01\n",
        "optimizer = torch.optim.SGD(model.parameters(),lr = learning_rate)\n",
        "print(optimizer.state_dict())\n",
        "\n",
        "\n",
        "checkpoint = {\n",
        "    \"epoch\" : 90,\n",
        "    'model_state': model.state_dict(),\n",
        "    'optim_state': optimizer.state_dict()\n",
        "\n",
        "}\n",
        "\n",
        "# torch.save(checkpoint,'checkpoint.pth')\n",
        "\n",
        "# loading the checkpoint\n",
        "\n",
        "loaded_checkpoint = torch.load('checkpoint.pth')\n",
        "\n",
        "epoch = loaded_checkpoint[\"epoch\"]\n",
        "model = Model(n_input_features=6)\n",
        "optimizer = torch.optim.SGD(model.parameters(),lr=0)\n",
        "\n",
        "model.load_state_dict(checkpoint['model_state'])\n",
        "optimizer.load_state_dict(checkpoint['optim_state'])\n",
        "\n",
        "print(optimizer.state_dict())"
      ],
      "metadata": {
        "id": "nGukq5X9Q42F",
        "colab": {
          "base_uri": "https://localhost:8080/"
        },
        "outputId": "c03f41bf-4420-4aac-9903-58f52ebc024a"
      },
      "execution_count": null,
      "outputs": [
        {
          "output_type": "stream",
          "name": "stdout",
          "text": [
            "{'state': {}, 'param_groups': [{'lr': 0.01, 'momentum': 0, 'dampening': 0, 'weight_decay': 0, 'nesterov': False, 'maximize': False, 'foreach': None, 'params': [0, 1]}]}\n",
            "{'state': {}, 'param_groups': [{'lr': 0.01, 'momentum': 0, 'dampening': 0, 'weight_decay': 0, 'nesterov': False, 'maximize': False, 'foreach': None, 'params': [0, 1]}]}\n"
          ]
        }
      ]
    },
    {
      "cell_type": "code",
      "source": [
        "# If you save your model on GPU and want to use on CPU  then do as following\n",
        "\n",
        "import torch \n",
        "import torch.nn as nn \n",
        "# 1)\n",
        "# save on GPU, Load on CPU \n",
        "\n",
        "# device = torch.device('cuda')\n",
        "# model.to(device)\n",
        "# torch.save(model.state_dict(),PATH)\n",
        "\n",
        "\n",
        "# device = torch.device('cpu')\n",
        "# model = Model(*args,**kwargs)\n",
        "# model.load_state_dict(torch.load(PATH,map_location=device))\n",
        "\n",
        "\n",
        "\n",
        "\n",
        "# 2)\n",
        "# if you want to save your model on GPU and use it on GPU itself then do as follows\n",
        "\n",
        "# device = torch.device('cuda')\n",
        "# model.to(device)\n",
        "# torch.save(model.state_dict(),PATH)\n",
        "# model = Model(*args,**kwargs)\n",
        "# model.load_state_dict(torch.load(PATH))\n",
        "# model.to(device)\n",
        "\n",
        "\n",
        "\n",
        "# 3)\n",
        "# save on cpu and load on GPU \n",
        "\n",
        "# torch.save(model.state_dict(),PATH)\n",
        "# device = torch.device('cuda')\n",
        "# torch.save(model.state_dict(),PATH)\n",
        "# model = Model(*args,**kwargs)\n",
        "# model.load_state_dict(torch.load(PATH, map_location=\"cuda=0\"))\n",
        "# model.to(device)\n"
      ],
      "metadata": {
        "id": "G7oOipTXL58j"
      },
      "execution_count": null,
      "outputs": []
    },
    {
      "cell_type": "markdown",
      "source": [
        "# 19) RNN tutorial - Name Classification using a Recurrent Neural Net \n"
      ],
      "metadata": {
        "id": "fwr9lX4x2iM9"
      }
    },
    {
      "cell_type": "code",
      "source": [
        "''' \n",
        "1) RNNs:\n",
        "RNNs are a class of nerual networks that allow previous outputs to be used as inputs while having hidden states.\n",
        " RNN Applications: \n",
        "The core reason that RNNs are so exciting is that they allow us to operate over sequences of vectors.\n",
        "'''\n",
        "import torch \n",
        "import torchvision\n",
        "import torch.nn as nn \n",
        "import torchvision.transforms as transforms \n",
        "\n",
        "\n",
        "\n",
        "\n",
        "\n",
        "# Device configuration \n",
        "device = torch.device('cuda' if torch.cuda.is_available() else 'cpu')\n",
        "\n",
        "\n",
        "# hyper parameter \n",
        "\n",
        "#input_size = 784      -> 28x28 \n",
        "hidden_size = 128 \n",
        "num_classes = 10 \n",
        "num_epochs =2 \n",
        "batch_size = 100 \n",
        "learning_rate = 0.001 \n",
        "\n",
        "input_size = 28 \n",
        "sequence_length = 28\n",
        "num_layers = 2 \n",
        "\n",
        "# MNIST DATASET \n",
        "train_dataset = torchvision.datasets.MNIST(root=\"./data\",\n",
        "                                          train= True,\n",
        "                                          transform = transforms.ToTensor(),\n",
        "                                          download = True)\n",
        "test_dataset = torchvision.datasets.MNIST(root=\"./data\",\n",
        "                                          train= False,\n",
        "                                          transform = transforms.ToTensor()\n",
        "                                          )\n",
        "# data loader \n",
        "train_loader = torch.utils.data.DataLoader(dataset=train_dataset,\n",
        "                                           batch_size = batch_size,\n",
        "                                           shuffle = True )\n",
        "test_loader = torch.utils.data.DataLoader(dataset=test_dataset,\n",
        "                                          batch_size=batch_size,\n",
        "                                          shuffle = False)\n",
        "# Fully connected neural network with one hidden layer \n",
        "class RNN(nn.Module):\n",
        "  def __init__(self,input_size,hidden_size,num_layers,num_classes):\n",
        "    super(RNN,self).__init__()\n",
        "    self.num_layers=num_layers\n",
        "    self.hidden_size = hidden_size\n",
        "    self.rnn = nn.LSTM(input_size,hidden_size,num_layers,batch_first= True)\n",
        "    self.fc = nn.Linear(hidden_size,num_classes)\n",
        "    # x --> input_shape(batch_size, seq, input_size)\n",
        "\n",
        "\n",
        "\n",
        "\n",
        "\n",
        "  def forward(self,x):\n",
        "    h0 = torch.zeros(self.num_layers, x.size(0),self.hidden_size).to(device)\n",
        "    c0 = torch.zeros(self.num_layers, x.size(0),self.hidden_size).to(device)\n",
        "\n",
        "    out, _ = self.rnn(x,(h0,c0))\n",
        "    # batch size, sequence length adn hidden_size\n",
        "    #  out (N,28,28)\n",
        "    out= out[:,-1,:]\n",
        "    # out (N,128)\n",
        "    out = self.fc(out)\n",
        "    return out\n",
        "\n",
        "  #  no activation function and no softmax at the end \n",
        "\n",
        "model = RNN(input_size,hidden_size,num_layers,num_classes).to(device)\n",
        "# loss and optimizer \n",
        "\n",
        "criterion = nn.CrossEntropyLoss()\n",
        "optimizer = torch.optim.Adam(model.parameters(),lr=learning_rate)\n",
        "\n",
        "# train the model \n",
        "n_total_steps = len(train_loader)\n",
        "for epoch in range(num_epochs):\n",
        "  for i, (images,labels) in enumerate(train_loader):\n",
        "    # original shape: (100,1,28,28)\n",
        "    # resized (100,28,28)\n",
        "    images = images.reshape(-1,sequence_length,input_size).to(device)\n",
        "    labels = labels.to(device)\n",
        "\n",
        "    # forward pass \n",
        "    outputs = model(images).to(device)\n",
        "    loss = criterion(outputs,labels)\n",
        "\n",
        "    # backward and optimize \n",
        "    optimizer.zero_grad()\n",
        "    loss.backward()\n",
        "    optimizer.step()\n",
        "\n",
        "    if (i+1)%100 == 0:\n",
        "      print(f'epoch [{epoch+1}/{num_epochs}], Step [{i+1}/{n_total_steps}],  Loss: {loss.item():.4f}')\n",
        "  \n",
        "\n",
        "# Test the model \n",
        "# In test phase, we don't need to compute gradients (for memory efficiency)\n",
        "\n",
        "with torch.no_grad():\n",
        "  n_correct=0 \n",
        "  n_samples =0 \n",
        "  for images, labels in test_loader:\n",
        "    images = images.reshape(-1,sequence_length,input_size).to(device)\n",
        "    labels = labels.to(device)\n",
        "    outputs = model(images).to(device)\n",
        "\n",
        "      # values, index \n",
        "\n",
        "    _, predictions = torch.max(outputs,1)\n",
        "    n_samples +=labels.shape[0]\n",
        "    n_correct += (predictions == labels).sum().item()\n",
        "  acc = 100.0 * n_correct / n_samples \n",
        "  print(f'accuracy = {acc}')\n",
        "      \n",
        "  torch.save(model.state_dict(),\"mnist_ffn.pth\")\n",
        "\n",
        "\n",
        "\n",
        "\n"
      ],
      "metadata": {
        "id": "L6KTsGXO1Kc-",
        "colab": {
          "base_uri": "https://localhost:8080/"
        },
        "outputId": "b721d911-7257-409c-e25f-170bd6b09db3"
      },
      "execution_count": null,
      "outputs": [
        {
          "output_type": "stream",
          "name": "stdout",
          "text": [
            "epoch [1/2], Step [100/600],  Loss: 1.0098\n",
            "epoch [1/2], Step [200/600],  Loss: 0.4289\n",
            "epoch [1/2], Step [300/600],  Loss: 0.2010\n",
            "epoch [1/2], Step [400/600],  Loss: 0.3123\n",
            "epoch [1/2], Step [500/600],  Loss: 0.1945\n",
            "epoch [1/2], Step [600/600],  Loss: 0.1663\n",
            "epoch [2/2], Step [100/600],  Loss: 0.0504\n",
            "epoch [2/2], Step [200/600],  Loss: 0.0511\n",
            "epoch [2/2], Step [300/600],  Loss: 0.0756\n",
            "epoch [2/2], Step [400/600],  Loss: 0.1728\n",
            "epoch [2/2], Step [500/600],  Loss: 0.1833\n",
            "epoch [2/2], Step [600/600],  Loss: 0.0626\n",
            "accuracy = 97.43\n"
          ]
        }
      ]
    },
    {
      "cell_type": "markdown",
      "source": [
        "# 20) Lightning Tutorial - Lightweight"
      ],
      "metadata": {
        "id": "JkQIsJHV1Lwz"
      }
    },
    {
      "cell_type": "code",
      "source": [
        "! pip install pytorch-lightning\n",
        "! pip install torchvision"
      ],
      "metadata": {
        "colab": {
          "base_uri": "https://localhost:8080/"
        },
        "id": "jIDWWKOop1cA",
        "outputId": "d4695961-f089-4e2c-acbb-b4b7233683fc"
      },
      "execution_count": null,
      "outputs": [
        {
          "output_type": "stream",
          "name": "stdout",
          "text": [
            "Looking in indexes: https://pypi.org/simple, https://us-python.pkg.dev/colab-wheels/public/simple/\n",
            "Collecting pytorch-lightning\n",
            "  Downloading pytorch_lightning-1.8.0.post1-py3-none-any.whl (796 kB)\n",
            "\u001b[K     |████████████████████████████████| 796 kB 5.1 MB/s \n",
            "\u001b[?25hRequirement already satisfied: tensorboard>=2.9.1 in /usr/local/lib/python3.7/dist-packages (from pytorch-lightning) (2.9.1)\n",
            "Requirement already satisfied: numpy>=1.17.2 in /usr/local/lib/python3.7/dist-packages (from pytorch-lightning) (1.21.6)\n",
            "Requirement already satisfied: packaging>=17.0 in /usr/local/lib/python3.7/dist-packages (from pytorch-lightning) (21.3)\n",
            "Requirement already satisfied: fsspec[http]>2021.06.0 in /usr/local/lib/python3.7/dist-packages (from pytorch-lightning) (2022.10.0)\n",
            "Collecting lightning-utilities==0.3.*\n",
            "  Downloading lightning_utilities-0.3.0-py3-none-any.whl (15 kB)\n",
            "Requirement already satisfied: torch>=1.9.* in /usr/local/lib/python3.7/dist-packages (from pytorch-lightning) (1.12.1+cu113)\n",
            "Collecting lightning-lite==1.8.0.post1\n",
            "  Downloading lightning_lite-1.8.0.post1-py3-none-any.whl (136 kB)\n",
            "\u001b[K     |████████████████████████████████| 136 kB 39.3 MB/s \n",
            "\u001b[?25hCollecting torchmetrics>=0.7.0\n",
            "  Downloading torchmetrics-0.10.2-py3-none-any.whl (529 kB)\n",
            "\u001b[K     |████████████████████████████████| 529 kB 33.1 MB/s \n",
            "\u001b[?25hRequirement already satisfied: typing-extensions>=4.0.0 in /usr/local/lib/python3.7/dist-packages (from pytorch-lightning) (4.1.1)\n",
            "Requirement already satisfied: PyYAML>=5.4 in /usr/local/lib/python3.7/dist-packages (from pytorch-lightning) (6.0)\n",
            "Requirement already satisfied: tqdm>=4.57.0 in /usr/local/lib/python3.7/dist-packages (from pytorch-lightning) (4.64.1)\n",
            "Collecting fire\n",
            "  Downloading fire-0.4.0.tar.gz (87 kB)\n",
            "\u001b[K     |████████████████████████████████| 87 kB 5.2 MB/s \n",
            "\u001b[?25hRequirement already satisfied: requests in /usr/local/lib/python3.7/dist-packages (from fsspec[http]>2021.06.0->pytorch-lightning) (2.23.0)\n",
            "Requirement already satisfied: aiohttp!=4.0.0a0,!=4.0.0a1 in /usr/local/lib/python3.7/dist-packages (from fsspec[http]>2021.06.0->pytorch-lightning) (3.8.3)\n",
            "Requirement already satisfied: asynctest==0.13.0 in /usr/local/lib/python3.7/dist-packages (from aiohttp!=4.0.0a0,!=4.0.0a1->fsspec[http]>2021.06.0->pytorch-lightning) (0.13.0)\n",
            "Requirement already satisfied: charset-normalizer<3.0,>=2.0 in /usr/local/lib/python3.7/dist-packages (from aiohttp!=4.0.0a0,!=4.0.0a1->fsspec[http]>2021.06.0->pytorch-lightning) (2.1.1)\n",
            "Requirement already satisfied: async-timeout<5.0,>=4.0.0a3 in /usr/local/lib/python3.7/dist-packages (from aiohttp!=4.0.0a0,!=4.0.0a1->fsspec[http]>2021.06.0->pytorch-lightning) (4.0.2)\n",
            "Requirement already satisfied: yarl<2.0,>=1.0 in /usr/local/lib/python3.7/dist-packages (from aiohttp!=4.0.0a0,!=4.0.0a1->fsspec[http]>2021.06.0->pytorch-lightning) (1.8.1)\n",
            "Requirement already satisfied: attrs>=17.3.0 in /usr/local/lib/python3.7/dist-packages (from aiohttp!=4.0.0a0,!=4.0.0a1->fsspec[http]>2021.06.0->pytorch-lightning) (22.1.0)\n",
            "Requirement already satisfied: frozenlist>=1.1.1 in /usr/local/lib/python3.7/dist-packages (from aiohttp!=4.0.0a0,!=4.0.0a1->fsspec[http]>2021.06.0->pytorch-lightning) (1.3.1)\n",
            "Requirement already satisfied: aiosignal>=1.1.2 in /usr/local/lib/python3.7/dist-packages (from aiohttp!=4.0.0a0,!=4.0.0a1->fsspec[http]>2021.06.0->pytorch-lightning) (1.2.0)\n",
            "Requirement already satisfied: multidict<7.0,>=4.5 in /usr/local/lib/python3.7/dist-packages (from aiohttp!=4.0.0a0,!=4.0.0a1->fsspec[http]>2021.06.0->pytorch-lightning) (6.0.2)\n",
            "Requirement already satisfied: pyparsing!=3.0.5,>=2.0.2 in /usr/local/lib/python3.7/dist-packages (from packaging>=17.0->pytorch-lightning) (3.0.9)\n",
            "Requirement already satisfied: tensorboard-plugin-wit>=1.6.0 in /usr/local/lib/python3.7/dist-packages (from tensorboard>=2.9.1->pytorch-lightning) (1.8.1)\n",
            "Requirement already satisfied: setuptools>=41.0.0 in /usr/local/lib/python3.7/dist-packages (from tensorboard>=2.9.1->pytorch-lightning) (57.4.0)\n",
            "Requirement already satisfied: wheel>=0.26 in /usr/local/lib/python3.7/dist-packages (from tensorboard>=2.9.1->pytorch-lightning) (0.37.1)\n",
            "Requirement already satisfied: tensorboard-data-server<0.7.0,>=0.6.0 in /usr/local/lib/python3.7/dist-packages (from tensorboard>=2.9.1->pytorch-lightning) (0.6.1)\n",
            "Requirement already satisfied: google-auth<3,>=1.6.3 in /usr/local/lib/python3.7/dist-packages (from tensorboard>=2.9.1->pytorch-lightning) (1.35.0)\n",
            "Requirement already satisfied: protobuf<3.20,>=3.9.2 in /usr/local/lib/python3.7/dist-packages (from tensorboard>=2.9.1->pytorch-lightning) (3.17.3)\n",
            "Requirement already satisfied: grpcio>=1.24.3 in /usr/local/lib/python3.7/dist-packages (from tensorboard>=2.9.1->pytorch-lightning) (1.50.0)\n",
            "Requirement already satisfied: werkzeug>=1.0.1 in /usr/local/lib/python3.7/dist-packages (from tensorboard>=2.9.1->pytorch-lightning) (1.0.1)\n",
            "Requirement already satisfied: google-auth-oauthlib<0.5,>=0.4.1 in /usr/local/lib/python3.7/dist-packages (from tensorboard>=2.9.1->pytorch-lightning) (0.4.6)\n",
            "Requirement already satisfied: markdown>=2.6.8 in /usr/local/lib/python3.7/dist-packages (from tensorboard>=2.9.1->pytorch-lightning) (3.4.1)\n",
            "Requirement already satisfied: absl-py>=0.4 in /usr/local/lib/python3.7/dist-packages (from tensorboard>=2.9.1->pytorch-lightning) (1.3.0)\n",
            "Requirement already satisfied: rsa<5,>=3.1.4 in /usr/local/lib/python3.7/dist-packages (from google-auth<3,>=1.6.3->tensorboard>=2.9.1->pytorch-lightning) (4.9)\n",
            "Requirement already satisfied: cachetools<5.0,>=2.0.0 in /usr/local/lib/python3.7/dist-packages (from google-auth<3,>=1.6.3->tensorboard>=2.9.1->pytorch-lightning) (4.2.4)\n",
            "Requirement already satisfied: six>=1.9.0 in /usr/local/lib/python3.7/dist-packages (from google-auth<3,>=1.6.3->tensorboard>=2.9.1->pytorch-lightning) (1.15.0)\n",
            "Requirement already satisfied: pyasn1-modules>=0.2.1 in /usr/local/lib/python3.7/dist-packages (from google-auth<3,>=1.6.3->tensorboard>=2.9.1->pytorch-lightning) (0.2.8)\n",
            "Requirement already satisfied: requests-oauthlib>=0.7.0 in /usr/local/lib/python3.7/dist-packages (from google-auth-oauthlib<0.5,>=0.4.1->tensorboard>=2.9.1->pytorch-lightning) (1.3.1)\n",
            "Requirement already satisfied: importlib-metadata>=4.4 in /usr/local/lib/python3.7/dist-packages (from markdown>=2.6.8->tensorboard>=2.9.1->pytorch-lightning) (4.13.0)\n",
            "Requirement already satisfied: zipp>=0.5 in /usr/local/lib/python3.7/dist-packages (from importlib-metadata>=4.4->markdown>=2.6.8->tensorboard>=2.9.1->pytorch-lightning) (3.10.0)\n",
            "Requirement already satisfied: pyasn1<0.5.0,>=0.4.6 in /usr/local/lib/python3.7/dist-packages (from pyasn1-modules>=0.2.1->google-auth<3,>=1.6.3->tensorboard>=2.9.1->pytorch-lightning) (0.4.8)\n",
            "Requirement already satisfied: urllib3!=1.25.0,!=1.25.1,<1.26,>=1.21.1 in /usr/local/lib/python3.7/dist-packages (from requests->fsspec[http]>2021.06.0->pytorch-lightning) (1.24.3)\n",
            "Requirement already satisfied: certifi>=2017.4.17 in /usr/local/lib/python3.7/dist-packages (from requests->fsspec[http]>2021.06.0->pytorch-lightning) (2022.9.24)\n",
            "Requirement already satisfied: chardet<4,>=3.0.2 in /usr/local/lib/python3.7/dist-packages (from requests->fsspec[http]>2021.06.0->pytorch-lightning) (3.0.4)\n",
            "Requirement already satisfied: idna<3,>=2.5 in /usr/local/lib/python3.7/dist-packages (from requests->fsspec[http]>2021.06.0->pytorch-lightning) (2.10)\n",
            "Requirement already satisfied: oauthlib>=3.0.0 in /usr/local/lib/python3.7/dist-packages (from requests-oauthlib>=0.7.0->google-auth-oauthlib<0.5,>=0.4.1->tensorboard>=2.9.1->pytorch-lightning) (3.2.2)\n",
            "Requirement already satisfied: termcolor in /usr/local/lib/python3.7/dist-packages (from fire->lightning-utilities==0.3.*->pytorch-lightning) (2.0.1)\n",
            "Building wheels for collected packages: fire\n",
            "  Building wheel for fire (setup.py) ... \u001b[?25l\u001b[?25hdone\n",
            "  Created wheel for fire: filename=fire-0.4.0-py2.py3-none-any.whl size=115942 sha256=f4f618c638c39ff47c0a111efd6a2aaf81fed25381216247b080699104566392\n",
            "  Stored in directory: /root/.cache/pip/wheels/8a/67/fb/2e8a12fa16661b9d5af1f654bd199366799740a85c64981226\n",
            "Successfully built fire\n",
            "Installing collected packages: fire, lightning-utilities, torchmetrics, lightning-lite, pytorch-lightning\n",
            "Successfully installed fire-0.4.0 lightning-lite-1.8.0.post1 lightning-utilities-0.3.0 pytorch-lightning-1.8.0.post1 torchmetrics-0.10.2\n",
            "Looking in indexes: https://pypi.org/simple, https://us-python.pkg.dev/colab-wheels/public/simple/\n",
            "Requirement already satisfied: torchvision in /usr/local/lib/python3.7/dist-packages (0.13.1+cu113)\n",
            "Requirement already satisfied: typing-extensions in /usr/local/lib/python3.7/dist-packages (from torchvision) (4.1.1)\n",
            "Requirement already satisfied: requests in /usr/local/lib/python3.7/dist-packages (from torchvision) (2.23.0)\n",
            "Requirement already satisfied: torch==1.12.1 in /usr/local/lib/python3.7/dist-packages (from torchvision) (1.12.1+cu113)\n",
            "Requirement already satisfied: numpy in /usr/local/lib/python3.7/dist-packages (from torchvision) (1.21.6)\n",
            "Requirement already satisfied: pillow!=8.3.*,>=5.3.0 in /usr/local/lib/python3.7/dist-packages (from torchvision) (7.1.2)\n",
            "Requirement already satisfied: certifi>=2017.4.17 in /usr/local/lib/python3.7/dist-packages (from requests->torchvision) (2022.9.24)\n",
            "Requirement already satisfied: urllib3!=1.25.0,!=1.25.1,<1.26,>=1.21.1 in /usr/local/lib/python3.7/dist-packages (from requests->torchvision) (1.24.3)\n",
            "Requirement already satisfied: chardet<4,>=3.0.2 in /usr/local/lib/python3.7/dist-packages (from requests->torchvision) (3.0.4)\n",
            "Requirement already satisfied: idna<3,>=2.5 in /usr/local/lib/python3.7/dist-packages (from requests->torchvision) (2.10)\n"
          ]
        }
      ]
    },
    {
      "cell_type": "code",
      "source": [
        "import torch \n",
        "import torch.nn as nn \n",
        "import torchvision \n",
        "import torchvision.transforms as transforms \n",
        "import matplotlib.pyplot as plt \n",
        "import pytorch_lightning as pl \n",
        "import torch.nn.functional as F\n",
        "\n",
        "# Hyper parameters \n",
        "input_size = 784 # 28x28 = 784, as our img is 28 by 28 and when we flatten the resultant is 784 \n",
        "hidden_size = 100 \n",
        "num_classes = 10 \n",
        "num_epochs = 2 \n",
        "batch_size = 100 \n",
        "learning_rate = 0.001 \n",
        "\n",
        "# compose \n",
        "transform = transforms.Compose([transforms.ToTensor(),\n",
        "                                transforms.Normalize((0.1307),(0.3081))])\n",
        "# MNIST \n",
        "# train_dataset = torchvision.datasets.MNIST(root=\"./data\", train = True, transform = transforms.ToTensor(),download = True)\n",
        "\n",
        "\n",
        "\n",
        "# creating a multilayer neural network with one hidden layer \n",
        "\n",
        "class LITNeuralNet(pl.LightningModule):\n",
        "  def __init__(self,input_size,hidden_size,num_classes):\n",
        "    super(LITNeuralNet, self).__init__()\n",
        "    self.l1 = nn.Linear(input_size,hidden_size)\n",
        "    self.relu = nn.ReLU()\n",
        "    self.l2 = nn.Linear(hidden_size, num_classes)\n",
        "\n",
        "  def forward(self,x):\n",
        "    out = self.l1(x)\n",
        "    out = self.relu(out)\n",
        "    out = self.l2(out)\n",
        "    return out\n",
        "\n",
        "\n",
        "\n",
        "  def training_step(self,batch,batch_idx):\n",
        "    images,labels = batch\n",
        "    images = images.reshape(-1,28*28)\n",
        "    outputs = self(images)\n",
        "    loss = F.cross_entropy(outputs,labels)\n",
        "\n",
        "    tensorboard_logs = { 'train_loss':loss}\n",
        "    return {'loss': loss, 'log':tensorboard_logs}\n",
        "\n",
        "  def configure_optimizers(self):\n",
        "    return torch.optim.Adam(self.parameters(),lr=0.001)\n",
        "  \n",
        "\n",
        "  def train_dataloader(self):\n",
        "    train_dataset = torchvision.datasets.MNIST(root=\"./data\", train = True, transform = transforms.ToTensor(), download=True)\n",
        "\n",
        "    train_loader = torch.utils.data.DataLoader(dataset = train_dataset,num_workers=4,batch_size=batch_size,shuffle = True)\n",
        "\n",
        "    return train_loader\n",
        "  \n",
        "  def validation_step(self,batch,batch_idx):\n",
        "    images,labels = batch\n",
        "    images = images.reshape(-1,28*28)\n",
        "    outputs = self(images)\n",
        "    loss = F.cross_entropy(outputs,labels)\n",
        "    return {'val_loss': loss}\n",
        "  \n",
        "  \n",
        "  def val_dataloader(self):\n",
        "    val_dataset = torchvision.datasets.MNIST(root=\"./data\", train = False, transform = transforms.ToTensor())\n",
        "\n",
        "    val_loader = torch.utils.data.DataLoader(dataset = val_dataset,num_workers=4,batch_size=batch_size,shuffle = False)\n",
        "\n",
        "    return val_loader\n",
        "\n",
        "  def validation_epoch_end(self,outputs):\n",
        "    avg_loss = torch.stack([x['val_loss'] for x in outputs]).mean()\n",
        "    tensorboard_logs = {'avg_val_loss': avg_loss}\n",
        "    return {'val_loss':avg_loss, 'log' :tensorboard_logs}\n",
        "\n",
        "\n",
        "if __name__ ==\"__main__\":\n",
        "  trainer = pl.Trainer(deterministic = True,auto_lr_find=True,max_epochs=num_epochs,fast_dev_run=True)\n",
        "  model= LITNeuralNet(input_size,hidden_size,num_classes)\n",
        "  trainer.fit(model)\n"
      ],
      "metadata": {
        "colab": {
          "base_uri": "https://localhost:8080/",
          "height": 434,
          "referenced_widgets": [
            "e65b39648d624d25a34fc93e80d5ec76",
            "fd240bdeb2cf4b378cdaf69b6258e38e",
            "c545ae1c3e2a43ce83a81b4b14bd7f77",
            "4ab8d985ee5b454cbdcbf7406423f5d4",
            "16f1c366d5504cff9491c24940a41f4d",
            "01aff2889f0a4e7ab45fc56fcc5f8583",
            "27e78fb4f3eb4463b01a6020b10b46b2",
            "96da8783f3da4a24bffa55e5647ddf4b",
            "9ada45a231d8498da1b3703a3c31b370",
            "ff355c59a114490d8bcaa2c2219397b3",
            "e4e155439c85412ab9dfa1a6a52756de",
            "e5c979861df541a2a4ef3390b9fe55e8",
            "daf504b293584b91a8d559fa66cb1117",
            "c9bfefa7cb6d4ab19b65678005bd53e2",
            "3acbd3130efb4a53ab8d5c6795ff3c1f",
            "30c77d643648451ab5c7956a301f7075",
            "de9b82c5ec2641b0bc9838d2d80d7b65",
            "0a11698dc1e9402d98dcc23defdc4ca6",
            "8495811b1c7548db85b41adab252f053",
            "a652072aa33544aa83e5909ecddd0ecc",
            "4d22fe05a15141f6aee804f07c0e25a2",
            "da6d8777a34241339abd95662fb6fd86"
          ]
        },
        "id": "XuuhjwYF93US",
        "outputId": "0e49c205-9914-40bb-d815-b5517039cc7f"
      },
      "execution_count": null,
      "outputs": [
        {
          "output_type": "stream",
          "name": "stderr",
          "text": [
            "INFO:pytorch_lightning.utilities.rank_zero:GPU available: False, used: False\n",
            "INFO:pytorch_lightning.utilities.rank_zero:TPU available: False, using: 0 TPU cores\n",
            "INFO:pytorch_lightning.utilities.rank_zero:IPU available: False, using: 0 IPUs\n",
            "INFO:pytorch_lightning.utilities.rank_zero:HPU available: False, using: 0 HPUs\n",
            "INFO:pytorch_lightning.utilities.rank_zero:Running in `fast_dev_run` mode: will run the requested loop using 1 batch(es). Logging and checkpointing is suppressed.\n",
            "INFO:pytorch_lightning.callbacks.model_summary:\n",
            "  | Name | Type   | Params\n",
            "--------------------------------\n",
            "0 | l1   | Linear | 78.5 K\n",
            "1 | relu | ReLU   | 0     \n",
            "2 | l2   | Linear | 1.0 K \n",
            "--------------------------------\n",
            "79.5 K    Trainable params\n",
            "0         Non-trainable params\n",
            "79.5 K    Total params\n",
            "0.318     Total estimated model params size (MB)\n",
            "/usr/local/lib/python3.7/dist-packages/torch/utils/data/dataloader.py:566: UserWarning: This DataLoader will create 4 worker processes in total. Our suggested max number of worker in current system is 2, which is smaller than what this DataLoader is going to create. Please be aware that excessive worker creation might get DataLoader running slow or even freeze, lower the worker number to avoid potential slowness/freeze if necessary.\n",
            "  cpuset_checked))\n",
            "/usr/local/lib/python3.7/dist-packages/pytorch_lightning/trainer/trainer.py:1559: PossibleUserWarning: The number of training batches (1) is smaller than the logging interval Trainer(log_every_n_steps=50). Set a lower value for log_every_n_steps if you want to see logs for the training epoch.\n",
            "  category=PossibleUserWarning,\n"
          ]
        },
        {
          "output_type": "display_data",
          "data": {
            "text/plain": [
              "Training: 0it [00:00, ?it/s]"
            ],
            "application/vnd.jupyter.widget-view+json": {
              "version_major": 2,
              "version_minor": 0,
              "model_id": "e65b39648d624d25a34fc93e80d5ec76"
            }
          },
          "metadata": {}
        },
        {
          "output_type": "display_data",
          "data": {
            "text/plain": [
              "Validation: 0it [00:00, ?it/s]"
            ],
            "application/vnd.jupyter.widget-view+json": {
              "version_major": 2,
              "version_minor": 0,
              "model_id": "e5c979861df541a2a4ef3390b9fe55e8"
            }
          },
          "metadata": {}
        },
        {
          "output_type": "stream",
          "name": "stderr",
          "text": [
            "INFO:pytorch_lightning.utilities.rank_zero:`Trainer.fit` stopped: `max_steps=1` reached.\n"
          ]
        }
      ]
    },
    {
      "cell_type": "markdown",
      "source": [
        "#21) LR Scheduler- Adjust the Learning Rate for better results "
      ],
      "metadata": {
        "id": "nNgXEe0xz1e_"
      }
    },
    {
      "cell_type": "code",
      "source": [
        "# how to adjust learning rate\n",
        "# 1) torch.optim.lr_scheduler \n",
        "# 2) torch.optim.lr_scheduler.ReduceLROnPlateau\n",
        "\n",
        "\n",
        "\n",
        "\n",
        "import torch \n",
        "import torch.nn as nn \n",
        "import torch.optim.lr_scheduler as lr_scheduler\n",
        "lr = 0.1\n",
        "model = nn.Linear(10,1)\n",
        "\n",
        "optimizer = torch.optim.Adam(model.parameters(),lr=lr)\n",
        "lambda1 = lambda epoch: epoch/10\n",
        "scheduler = lr_scheduler.LambdaLR(optimizer,lambda1)\n",
        "\n",
        "\n",
        "\n",
        "\n",
        "# # MultiplicativeLR\n",
        "# lambda1 = lambda epoch: 0.95\n",
        "\n",
        "# scheduler = lr_scheduler.MultiplicativeLR(optimizer,lambda1)\n",
        "\n",
        "\n",
        "\n",
        "# # step LR\n",
        "# scheduler = lr_scheduler.StepLR(optimizer,step_size=30,gamma = 0.8)\n",
        "# print(optimizer.state_dict())\n",
        "\n",
        "\n",
        "\n",
        "# Multiple step lr \n",
        "\n",
        "# scheduler = lr_scheduler.MultiStepLR(optimizer,milestones=[30,80],gamma = 0.8)\n",
        "# print(optimizer.state_dict())\n",
        "\n",
        "\n",
        "\n",
        "# # ReduceLROnPlateau\n",
        "# scheduler = torch.optim.lr_scheduler.ReduceLROnPlateau(optimizer,mode='min')\n",
        "# print(optimizer.state_dict())\n",
        "\n",
        "for epoch in range(5):\n",
        "  # loss.backward()\n",
        "  optimizer.step()\n",
        "  # validate(.......)\n",
        "  scheduler.step()\n",
        "  print(optimizer.state_dict()['param_groups'][0]['lr'])\n",
        "\n"
      ],
      "metadata": {
        "colab": {
          "base_uri": "https://localhost:8080/"
        },
        "id": "qwFFz4IRamN0",
        "outputId": "b9c4b18b-a1d9-4c60-c9d4-0db3e8b58b3b"
      },
      "execution_count": 1,
      "outputs": [
        {
          "output_type": "stream",
          "name": "stdout",
          "text": [
            "0.010000000000000002\n",
            "0.020000000000000004\n",
            "0.03\n",
            "0.04000000000000001\n",
            "0.05\n"
          ]
        }
      ]
    },
    {
      "cell_type": "code",
      "source": [],
      "metadata": {
        "id": "AMMBNU8P4g7t"
      },
      "execution_count": 1,
      "outputs": []
    },
    {
      "cell_type": "code",
      "source": [],
      "metadata": {
        "id": "FhWcqbay6HBG"
      },
      "execution_count": null,
      "outputs": []
    }
  ],
  "metadata": {
    "colab": {
      "collapsed_sections": [],
      "provenance": []
    },
    "gpuClass": "standard",
    "kernelspec": {
      "display_name": "Python 3",
      "name": "python3"
    },
    "language_info": {
      "name": "python"
    },
    "accelerator": "GPU",
    "widgets": {
      "application/vnd.jupyter.widget-state+json": {
        "e65b39648d624d25a34fc93e80d5ec76": {
          "model_module": "@jupyter-widgets/controls",
          "model_name": "HBoxModel",
          "model_module_version": "1.5.0",
          "state": {
            "_dom_classes": [],
            "_model_module": "@jupyter-widgets/controls",
            "_model_module_version": "1.5.0",
            "_model_name": "HBoxModel",
            "_view_count": null,
            "_view_module": "@jupyter-widgets/controls",
            "_view_module_version": "1.5.0",
            "_view_name": "HBoxView",
            "box_style": "",
            "children": [
              "IPY_MODEL_fd240bdeb2cf4b378cdaf69b6258e38e",
              "IPY_MODEL_c545ae1c3e2a43ce83a81b4b14bd7f77",
              "IPY_MODEL_4ab8d985ee5b454cbdcbf7406423f5d4"
            ],
            "layout": "IPY_MODEL_16f1c366d5504cff9491c24940a41f4d"
          }
        },
        "fd240bdeb2cf4b378cdaf69b6258e38e": {
          "model_module": "@jupyter-widgets/controls",
          "model_name": "HTMLModel",
          "model_module_version": "1.5.0",
          "state": {
            "_dom_classes": [],
            "_model_module": "@jupyter-widgets/controls",
            "_model_module_version": "1.5.0",
            "_model_name": "HTMLModel",
            "_view_count": null,
            "_view_module": "@jupyter-widgets/controls",
            "_view_module_version": "1.5.0",
            "_view_name": "HTMLView",
            "description": "",
            "description_tooltip": null,
            "layout": "IPY_MODEL_01aff2889f0a4e7ab45fc56fcc5f8583",
            "placeholder": "​",
            "style": "IPY_MODEL_27e78fb4f3eb4463b01a6020b10b46b2",
            "value": "Epoch 0: 100%"
          }
        },
        "c545ae1c3e2a43ce83a81b4b14bd7f77": {
          "model_module": "@jupyter-widgets/controls",
          "model_name": "FloatProgressModel",
          "model_module_version": "1.5.0",
          "state": {
            "_dom_classes": [],
            "_model_module": "@jupyter-widgets/controls",
            "_model_module_version": "1.5.0",
            "_model_name": "FloatProgressModel",
            "_view_count": null,
            "_view_module": "@jupyter-widgets/controls",
            "_view_module_version": "1.5.0",
            "_view_name": "ProgressView",
            "bar_style": "success",
            "description": "",
            "description_tooltip": null,
            "layout": "IPY_MODEL_96da8783f3da4a24bffa55e5647ddf4b",
            "max": 2,
            "min": 0,
            "orientation": "horizontal",
            "style": "IPY_MODEL_9ada45a231d8498da1b3703a3c31b370",
            "value": 2
          }
        },
        "4ab8d985ee5b454cbdcbf7406423f5d4": {
          "model_module": "@jupyter-widgets/controls",
          "model_name": "HTMLModel",
          "model_module_version": "1.5.0",
          "state": {
            "_dom_classes": [],
            "_model_module": "@jupyter-widgets/controls",
            "_model_module_version": "1.5.0",
            "_model_name": "HTMLModel",
            "_view_count": null,
            "_view_module": "@jupyter-widgets/controls",
            "_view_module_version": "1.5.0",
            "_view_name": "HTMLView",
            "description": "",
            "description_tooltip": null,
            "layout": "IPY_MODEL_ff355c59a114490d8bcaa2c2219397b3",
            "placeholder": "​",
            "style": "IPY_MODEL_e4e155439c85412ab9dfa1a6a52756de",
            "value": " 2/2 [00:00&lt;00:00,  2.83it/s, loss=2.31, v_num=]"
          }
        },
        "16f1c366d5504cff9491c24940a41f4d": {
          "model_module": "@jupyter-widgets/base",
          "model_name": "LayoutModel",
          "model_module_version": "1.2.0",
          "state": {
            "_model_module": "@jupyter-widgets/base",
            "_model_module_version": "1.2.0",
            "_model_name": "LayoutModel",
            "_view_count": null,
            "_view_module": "@jupyter-widgets/base",
            "_view_module_version": "1.2.0",
            "_view_name": "LayoutView",
            "align_content": null,
            "align_items": null,
            "align_self": null,
            "border": null,
            "bottom": null,
            "display": "inline-flex",
            "flex": null,
            "flex_flow": "row wrap",
            "grid_area": null,
            "grid_auto_columns": null,
            "grid_auto_flow": null,
            "grid_auto_rows": null,
            "grid_column": null,
            "grid_gap": null,
            "grid_row": null,
            "grid_template_areas": null,
            "grid_template_columns": null,
            "grid_template_rows": null,
            "height": null,
            "justify_content": null,
            "justify_items": null,
            "left": null,
            "margin": null,
            "max_height": null,
            "max_width": null,
            "min_height": null,
            "min_width": null,
            "object_fit": null,
            "object_position": null,
            "order": null,
            "overflow": null,
            "overflow_x": null,
            "overflow_y": null,
            "padding": null,
            "right": null,
            "top": null,
            "visibility": null,
            "width": "100%"
          }
        },
        "01aff2889f0a4e7ab45fc56fcc5f8583": {
          "model_module": "@jupyter-widgets/base",
          "model_name": "LayoutModel",
          "model_module_version": "1.2.0",
          "state": {
            "_model_module": "@jupyter-widgets/base",
            "_model_module_version": "1.2.0",
            "_model_name": "LayoutModel",
            "_view_count": null,
            "_view_module": "@jupyter-widgets/base",
            "_view_module_version": "1.2.0",
            "_view_name": "LayoutView",
            "align_content": null,
            "align_items": null,
            "align_self": null,
            "border": null,
            "bottom": null,
            "display": null,
            "flex": null,
            "flex_flow": null,
            "grid_area": null,
            "grid_auto_columns": null,
            "grid_auto_flow": null,
            "grid_auto_rows": null,
            "grid_column": null,
            "grid_gap": null,
            "grid_row": null,
            "grid_template_areas": null,
            "grid_template_columns": null,
            "grid_template_rows": null,
            "height": null,
            "justify_content": null,
            "justify_items": null,
            "left": null,
            "margin": null,
            "max_height": null,
            "max_width": null,
            "min_height": null,
            "min_width": null,
            "object_fit": null,
            "object_position": null,
            "order": null,
            "overflow": null,
            "overflow_x": null,
            "overflow_y": null,
            "padding": null,
            "right": null,
            "top": null,
            "visibility": null,
            "width": null
          }
        },
        "27e78fb4f3eb4463b01a6020b10b46b2": {
          "model_module": "@jupyter-widgets/controls",
          "model_name": "DescriptionStyleModel",
          "model_module_version": "1.5.0",
          "state": {
            "_model_module": "@jupyter-widgets/controls",
            "_model_module_version": "1.5.0",
            "_model_name": "DescriptionStyleModel",
            "_view_count": null,
            "_view_module": "@jupyter-widgets/base",
            "_view_module_version": "1.2.0",
            "_view_name": "StyleView",
            "description_width": ""
          }
        },
        "96da8783f3da4a24bffa55e5647ddf4b": {
          "model_module": "@jupyter-widgets/base",
          "model_name": "LayoutModel",
          "model_module_version": "1.2.0",
          "state": {
            "_model_module": "@jupyter-widgets/base",
            "_model_module_version": "1.2.0",
            "_model_name": "LayoutModel",
            "_view_count": null,
            "_view_module": "@jupyter-widgets/base",
            "_view_module_version": "1.2.0",
            "_view_name": "LayoutView",
            "align_content": null,
            "align_items": null,
            "align_self": null,
            "border": null,
            "bottom": null,
            "display": null,
            "flex": "2",
            "flex_flow": null,
            "grid_area": null,
            "grid_auto_columns": null,
            "grid_auto_flow": null,
            "grid_auto_rows": null,
            "grid_column": null,
            "grid_gap": null,
            "grid_row": null,
            "grid_template_areas": null,
            "grid_template_columns": null,
            "grid_template_rows": null,
            "height": null,
            "justify_content": null,
            "justify_items": null,
            "left": null,
            "margin": null,
            "max_height": null,
            "max_width": null,
            "min_height": null,
            "min_width": null,
            "object_fit": null,
            "object_position": null,
            "order": null,
            "overflow": null,
            "overflow_x": null,
            "overflow_y": null,
            "padding": null,
            "right": null,
            "top": null,
            "visibility": null,
            "width": null
          }
        },
        "9ada45a231d8498da1b3703a3c31b370": {
          "model_module": "@jupyter-widgets/controls",
          "model_name": "ProgressStyleModel",
          "model_module_version": "1.5.0",
          "state": {
            "_model_module": "@jupyter-widgets/controls",
            "_model_module_version": "1.5.0",
            "_model_name": "ProgressStyleModel",
            "_view_count": null,
            "_view_module": "@jupyter-widgets/base",
            "_view_module_version": "1.2.0",
            "_view_name": "StyleView",
            "bar_color": null,
            "description_width": ""
          }
        },
        "ff355c59a114490d8bcaa2c2219397b3": {
          "model_module": "@jupyter-widgets/base",
          "model_name": "LayoutModel",
          "model_module_version": "1.2.0",
          "state": {
            "_model_module": "@jupyter-widgets/base",
            "_model_module_version": "1.2.0",
            "_model_name": "LayoutModel",
            "_view_count": null,
            "_view_module": "@jupyter-widgets/base",
            "_view_module_version": "1.2.0",
            "_view_name": "LayoutView",
            "align_content": null,
            "align_items": null,
            "align_self": null,
            "border": null,
            "bottom": null,
            "display": null,
            "flex": null,
            "flex_flow": null,
            "grid_area": null,
            "grid_auto_columns": null,
            "grid_auto_flow": null,
            "grid_auto_rows": null,
            "grid_column": null,
            "grid_gap": null,
            "grid_row": null,
            "grid_template_areas": null,
            "grid_template_columns": null,
            "grid_template_rows": null,
            "height": null,
            "justify_content": null,
            "justify_items": null,
            "left": null,
            "margin": null,
            "max_height": null,
            "max_width": null,
            "min_height": null,
            "min_width": null,
            "object_fit": null,
            "object_position": null,
            "order": null,
            "overflow": null,
            "overflow_x": null,
            "overflow_y": null,
            "padding": null,
            "right": null,
            "top": null,
            "visibility": null,
            "width": null
          }
        },
        "e4e155439c85412ab9dfa1a6a52756de": {
          "model_module": "@jupyter-widgets/controls",
          "model_name": "DescriptionStyleModel",
          "model_module_version": "1.5.0",
          "state": {
            "_model_module": "@jupyter-widgets/controls",
            "_model_module_version": "1.5.0",
            "_model_name": "DescriptionStyleModel",
            "_view_count": null,
            "_view_module": "@jupyter-widgets/base",
            "_view_module_version": "1.2.0",
            "_view_name": "StyleView",
            "description_width": ""
          }
        },
        "e5c979861df541a2a4ef3390b9fe55e8": {
          "model_module": "@jupyter-widgets/controls",
          "model_name": "HBoxModel",
          "model_module_version": "1.5.0",
          "state": {
            "_dom_classes": [],
            "_model_module": "@jupyter-widgets/controls",
            "_model_module_version": "1.5.0",
            "_model_name": "HBoxModel",
            "_view_count": null,
            "_view_module": "@jupyter-widgets/controls",
            "_view_module_version": "1.5.0",
            "_view_name": "HBoxView",
            "box_style": "",
            "children": [
              "IPY_MODEL_daf504b293584b91a8d559fa66cb1117",
              "IPY_MODEL_c9bfefa7cb6d4ab19b65678005bd53e2",
              "IPY_MODEL_3acbd3130efb4a53ab8d5c6795ff3c1f"
            ],
            "layout": "IPY_MODEL_30c77d643648451ab5c7956a301f7075"
          }
        },
        "daf504b293584b91a8d559fa66cb1117": {
          "model_module": "@jupyter-widgets/controls",
          "model_name": "HTMLModel",
          "model_module_version": "1.5.0",
          "state": {
            "_dom_classes": [],
            "_model_module": "@jupyter-widgets/controls",
            "_model_module_version": "1.5.0",
            "_model_name": "HTMLModel",
            "_view_count": null,
            "_view_module": "@jupyter-widgets/controls",
            "_view_module_version": "1.5.0",
            "_view_name": "HTMLView",
            "description": "",
            "description_tooltip": null,
            "layout": "IPY_MODEL_de9b82c5ec2641b0bc9838d2d80d7b65",
            "placeholder": "​",
            "style": "IPY_MODEL_0a11698dc1e9402d98dcc23defdc4ca6",
            "value": "Validation DataLoader 0: 100%"
          }
        },
        "c9bfefa7cb6d4ab19b65678005bd53e2": {
          "model_module": "@jupyter-widgets/controls",
          "model_name": "FloatProgressModel",
          "model_module_version": "1.5.0",
          "state": {
            "_dom_classes": [],
            "_model_module": "@jupyter-widgets/controls",
            "_model_module_version": "1.5.0",
            "_model_name": "FloatProgressModel",
            "_view_count": null,
            "_view_module": "@jupyter-widgets/controls",
            "_view_module_version": "1.5.0",
            "_view_name": "ProgressView",
            "bar_style": "",
            "description": "",
            "description_tooltip": null,
            "layout": "IPY_MODEL_8495811b1c7548db85b41adab252f053",
            "max": 1,
            "min": 0,
            "orientation": "horizontal",
            "style": "IPY_MODEL_a652072aa33544aa83e5909ecddd0ecc",
            "value": 1
          }
        },
        "3acbd3130efb4a53ab8d5c6795ff3c1f": {
          "model_module": "@jupyter-widgets/controls",
          "model_name": "HTMLModel",
          "model_module_version": "1.5.0",
          "state": {
            "_dom_classes": [],
            "_model_module": "@jupyter-widgets/controls",
            "_model_module_version": "1.5.0",
            "_model_name": "HTMLModel",
            "_view_count": null,
            "_view_module": "@jupyter-widgets/controls",
            "_view_module_version": "1.5.0",
            "_view_name": "HTMLView",
            "description": "",
            "description_tooltip": null,
            "layout": "IPY_MODEL_4d22fe05a15141f6aee804f07c0e25a2",
            "placeholder": "​",
            "style": "IPY_MODEL_da6d8777a34241339abd95662fb6fd86",
            "value": " 1/1 [00:00&lt;00:00, 22.66it/s]"
          }
        },
        "30c77d643648451ab5c7956a301f7075": {
          "model_module": "@jupyter-widgets/base",
          "model_name": "LayoutModel",
          "model_module_version": "1.2.0",
          "state": {
            "_model_module": "@jupyter-widgets/base",
            "_model_module_version": "1.2.0",
            "_model_name": "LayoutModel",
            "_view_count": null,
            "_view_module": "@jupyter-widgets/base",
            "_view_module_version": "1.2.0",
            "_view_name": "LayoutView",
            "align_content": null,
            "align_items": null,
            "align_self": null,
            "border": null,
            "bottom": null,
            "display": "inline-flex",
            "flex": null,
            "flex_flow": "row wrap",
            "grid_area": null,
            "grid_auto_columns": null,
            "grid_auto_flow": null,
            "grid_auto_rows": null,
            "grid_column": null,
            "grid_gap": null,
            "grid_row": null,
            "grid_template_areas": null,
            "grid_template_columns": null,
            "grid_template_rows": null,
            "height": null,
            "justify_content": null,
            "justify_items": null,
            "left": null,
            "margin": null,
            "max_height": null,
            "max_width": null,
            "min_height": null,
            "min_width": null,
            "object_fit": null,
            "object_position": null,
            "order": null,
            "overflow": null,
            "overflow_x": null,
            "overflow_y": null,
            "padding": null,
            "right": null,
            "top": null,
            "visibility": "hidden",
            "width": "100%"
          }
        },
        "de9b82c5ec2641b0bc9838d2d80d7b65": {
          "model_module": "@jupyter-widgets/base",
          "model_name": "LayoutModel",
          "model_module_version": "1.2.0",
          "state": {
            "_model_module": "@jupyter-widgets/base",
            "_model_module_version": "1.2.0",
            "_model_name": "LayoutModel",
            "_view_count": null,
            "_view_module": "@jupyter-widgets/base",
            "_view_module_version": "1.2.0",
            "_view_name": "LayoutView",
            "align_content": null,
            "align_items": null,
            "align_self": null,
            "border": null,
            "bottom": null,
            "display": null,
            "flex": null,
            "flex_flow": null,
            "grid_area": null,
            "grid_auto_columns": null,
            "grid_auto_flow": null,
            "grid_auto_rows": null,
            "grid_column": null,
            "grid_gap": null,
            "grid_row": null,
            "grid_template_areas": null,
            "grid_template_columns": null,
            "grid_template_rows": null,
            "height": null,
            "justify_content": null,
            "justify_items": null,
            "left": null,
            "margin": null,
            "max_height": null,
            "max_width": null,
            "min_height": null,
            "min_width": null,
            "object_fit": null,
            "object_position": null,
            "order": null,
            "overflow": null,
            "overflow_x": null,
            "overflow_y": null,
            "padding": null,
            "right": null,
            "top": null,
            "visibility": null,
            "width": null
          }
        },
        "0a11698dc1e9402d98dcc23defdc4ca6": {
          "model_module": "@jupyter-widgets/controls",
          "model_name": "DescriptionStyleModel",
          "model_module_version": "1.5.0",
          "state": {
            "_model_module": "@jupyter-widgets/controls",
            "_model_module_version": "1.5.0",
            "_model_name": "DescriptionStyleModel",
            "_view_count": null,
            "_view_module": "@jupyter-widgets/base",
            "_view_module_version": "1.2.0",
            "_view_name": "StyleView",
            "description_width": ""
          }
        },
        "8495811b1c7548db85b41adab252f053": {
          "model_module": "@jupyter-widgets/base",
          "model_name": "LayoutModel",
          "model_module_version": "1.2.0",
          "state": {
            "_model_module": "@jupyter-widgets/base",
            "_model_module_version": "1.2.0",
            "_model_name": "LayoutModel",
            "_view_count": null,
            "_view_module": "@jupyter-widgets/base",
            "_view_module_version": "1.2.0",
            "_view_name": "LayoutView",
            "align_content": null,
            "align_items": null,
            "align_self": null,
            "border": null,
            "bottom": null,
            "display": null,
            "flex": "2",
            "flex_flow": null,
            "grid_area": null,
            "grid_auto_columns": null,
            "grid_auto_flow": null,
            "grid_auto_rows": null,
            "grid_column": null,
            "grid_gap": null,
            "grid_row": null,
            "grid_template_areas": null,
            "grid_template_columns": null,
            "grid_template_rows": null,
            "height": null,
            "justify_content": null,
            "justify_items": null,
            "left": null,
            "margin": null,
            "max_height": null,
            "max_width": null,
            "min_height": null,
            "min_width": null,
            "object_fit": null,
            "object_position": null,
            "order": null,
            "overflow": null,
            "overflow_x": null,
            "overflow_y": null,
            "padding": null,
            "right": null,
            "top": null,
            "visibility": null,
            "width": null
          }
        },
        "a652072aa33544aa83e5909ecddd0ecc": {
          "model_module": "@jupyter-widgets/controls",
          "model_name": "ProgressStyleModel",
          "model_module_version": "1.5.0",
          "state": {
            "_model_module": "@jupyter-widgets/controls",
            "_model_module_version": "1.5.0",
            "_model_name": "ProgressStyleModel",
            "_view_count": null,
            "_view_module": "@jupyter-widgets/base",
            "_view_module_version": "1.2.0",
            "_view_name": "StyleView",
            "bar_color": null,
            "description_width": ""
          }
        },
        "4d22fe05a15141f6aee804f07c0e25a2": {
          "model_module": "@jupyter-widgets/base",
          "model_name": "LayoutModel",
          "model_module_version": "1.2.0",
          "state": {
            "_model_module": "@jupyter-widgets/base",
            "_model_module_version": "1.2.0",
            "_model_name": "LayoutModel",
            "_view_count": null,
            "_view_module": "@jupyter-widgets/base",
            "_view_module_version": "1.2.0",
            "_view_name": "LayoutView",
            "align_content": null,
            "align_items": null,
            "align_self": null,
            "border": null,
            "bottom": null,
            "display": null,
            "flex": null,
            "flex_flow": null,
            "grid_area": null,
            "grid_auto_columns": null,
            "grid_auto_flow": null,
            "grid_auto_rows": null,
            "grid_column": null,
            "grid_gap": null,
            "grid_row": null,
            "grid_template_areas": null,
            "grid_template_columns": null,
            "grid_template_rows": null,
            "height": null,
            "justify_content": null,
            "justify_items": null,
            "left": null,
            "margin": null,
            "max_height": null,
            "max_width": null,
            "min_height": null,
            "min_width": null,
            "object_fit": null,
            "object_position": null,
            "order": null,
            "overflow": null,
            "overflow_x": null,
            "overflow_y": null,
            "padding": null,
            "right": null,
            "top": null,
            "visibility": null,
            "width": null
          }
        },
        "da6d8777a34241339abd95662fb6fd86": {
          "model_module": "@jupyter-widgets/controls",
          "model_name": "DescriptionStyleModel",
          "model_module_version": "1.5.0",
          "state": {
            "_model_module": "@jupyter-widgets/controls",
            "_model_module_version": "1.5.0",
            "_model_name": "DescriptionStyleModel",
            "_view_count": null,
            "_view_module": "@jupyter-widgets/base",
            "_view_module_version": "1.2.0",
            "_view_name": "StyleView",
            "description_width": ""
          }
        }
      }
    }
  },
  "nbformat": 4,
  "nbformat_minor": 0
}